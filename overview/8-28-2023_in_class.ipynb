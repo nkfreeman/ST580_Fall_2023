{
 "cells": [
  {
   "cell_type": "code",
   "execution_count": 1,
   "id": "db2ca182-b9c6-4a3c-bb6a-5cceeda8ba70",
   "metadata": {},
   "outputs": [],
   "source": [
    "import pathlib\n",
    "\n",
    "import matplotlib.pyplot as plt\n",
    "import pandas as pd\n",
    "import polars as pl\n",
    "import seaborn as sns"
   ]
  },
  {
   "cell_type": "code",
   "execution_count": 2,
   "id": "4ec44cf3-fb7c-4002-87d3-39cef5ee1de4",
   "metadata": {},
   "outputs": [
    {
     "data": {
      "text/plain": [
       "PosixPath('churn.csv')"
      ]
     },
     "execution_count": 2,
     "metadata": {},
     "output_type": "execute_result"
    }
   ],
   "source": [
    "data_filepath = pathlib.Path('churn.csv')\n",
    "data_filepath"
   ]
  },
  {
   "cell_type": "code",
   "execution_count": 3,
   "id": "ff5a0a09-16f7-4cbb-a3d5-667de2dc0c84",
   "metadata": {},
   "outputs": [
    {
     "data": {
      "text/plain": [
       "True"
      ]
     },
     "execution_count": 3,
     "metadata": {},
     "output_type": "execute_result"
    }
   ],
   "source": [
    "data_filepath.exists()"
   ]
  },
  {
   "cell_type": "code",
   "execution_count": 4,
   "id": "fe000b66-5d32-4832-82d9-c8803e6a3ac9",
   "metadata": {},
   "outputs": [
    {
     "data": {
      "text/plain": [
       "False"
      ]
     },
     "execution_count": 4,
     "metadata": {},
     "output_type": "execute_result"
    }
   ],
   "source": [
    "data_filepath.is_dir()"
   ]
  },
  {
   "cell_type": "code",
   "execution_count": 5,
   "id": "2cc39e10-2db7-433a-aa9a-034dff093639",
   "metadata": {},
   "outputs": [],
   "source": [
    "assert data_filepath.exists(), f'{data_filepath} does not exist'"
   ]
  },
  {
   "cell_type": "code",
   "execution_count": 6,
   "id": "eeb579d1-8333-44cc-a8ee-bf43f068594f",
   "metadata": {},
   "outputs": [
    {
     "name": "stdout",
     "output_type": "stream",
     "text": [
      "20.2 ms ± 106 µs per loop (mean ± std. dev. of 7 runs, 10 loops each)\n"
     ]
    }
   ],
   "source": [
    "%%timeit\n",
    "\n",
    "pd.read_csv(data_filepath)"
   ]
  },
  {
   "cell_type": "code",
   "execution_count": 7,
   "id": "58b78d8b-49fa-450b-bccc-f2d315a25a40",
   "metadata": {},
   "outputs": [
    {
     "name": "stdout",
     "output_type": "stream",
     "text": [
      "2.35 ms ± 191 µs per loop (mean ± std. dev. of 7 runs, 100 loops each)\n"
     ]
    }
   ],
   "source": [
    "%%timeit\n",
    "\n",
    "pl.read_csv(data_filepath)"
   ]
  },
  {
   "cell_type": "code",
   "execution_count": 8,
   "id": "1c6824f3-a746-4174-855d-3a278245e4ad",
   "metadata": {},
   "outputs": [],
   "source": [
    "df_pd = pd.read_csv(data_filepath)\n",
    "df_pl = pl.read_csv(data_filepath)"
   ]
  },
  {
   "cell_type": "code",
   "execution_count": 9,
   "id": "d8188878-1ff1-4096-889e-d37d79e1125e",
   "metadata": {},
   "outputs": [
    {
     "data": {
      "text/plain": [
       "8166479"
      ]
     },
     "execution_count": 9,
     "metadata": {},
     "output_type": "execute_result"
    }
   ],
   "source": [
    "df_pd.memory_usage(deep=True).sum()"
   ]
  },
  {
   "cell_type": "code",
   "execution_count": 10,
   "id": "176dc14e-7a07-44a3-bfde-d5453c5ed1c1",
   "metadata": {},
   "outputs": [
    {
     "data": {
      "text/plain": [
       "1914043"
      ]
     },
     "execution_count": 10,
     "metadata": {},
     "output_type": "execute_result"
    }
   ],
   "source": [
    "df_pl.estimated_size()"
   ]
  },
  {
   "cell_type": "code",
   "execution_count": 12,
   "id": "c099bc3d-e410-4227-9ed8-7beb652bff20",
   "metadata": {},
   "outputs": [
    {
     "data": {
      "text/html": [
       "<div>\n",
       "<style scoped>\n",
       "    .dataframe tbody tr th:only-of-type {\n",
       "        vertical-align: middle;\n",
       "    }\n",
       "\n",
       "    .dataframe tbody tr th {\n",
       "        vertical-align: top;\n",
       "    }\n",
       "\n",
       "    .dataframe thead th {\n",
       "        text-align: right;\n",
       "    }\n",
       "</style>\n",
       "<table border=\"1\" class=\"dataframe\">\n",
       "  <thead>\n",
       "    <tr style=\"text-align: right;\">\n",
       "      <th></th>\n",
       "      <th>customerID</th>\n",
       "      <th>gender</th>\n",
       "      <th>SeniorCitizen</th>\n",
       "      <th>Partner</th>\n",
       "      <th>Dependents</th>\n",
       "      <th>tenure</th>\n",
       "      <th>PhoneService</th>\n",
       "      <th>MultipleLines</th>\n",
       "      <th>InternetService</th>\n",
       "      <th>OnlineSecurity</th>\n",
       "      <th>...</th>\n",
       "      <th>DeviceProtection</th>\n",
       "      <th>TechSupport</th>\n",
       "      <th>StreamingTV</th>\n",
       "      <th>StreamingMovies</th>\n",
       "      <th>Contract</th>\n",
       "      <th>PaperlessBilling</th>\n",
       "      <th>PaymentMethod</th>\n",
       "      <th>MonthlyCharges</th>\n",
       "      <th>TotalCharges</th>\n",
       "      <th>Churn</th>\n",
       "    </tr>\n",
       "  </thead>\n",
       "  <tbody>\n",
       "    <tr>\n",
       "      <th>0</th>\n",
       "      <td>7590-VHVEG</td>\n",
       "      <td>Female</td>\n",
       "      <td>0</td>\n",
       "      <td>Yes</td>\n",
       "      <td>No</td>\n",
       "      <td>1</td>\n",
       "      <td>No</td>\n",
       "      <td>No phone service</td>\n",
       "      <td>DSL</td>\n",
       "      <td>No</td>\n",
       "      <td>...</td>\n",
       "      <td>No</td>\n",
       "      <td>No</td>\n",
       "      <td>No</td>\n",
       "      <td>No</td>\n",
       "      <td>Month-to-month</td>\n",
       "      <td>Yes</td>\n",
       "      <td>Electronic check</td>\n",
       "      <td>29.85</td>\n",
       "      <td>29.85</td>\n",
       "      <td>No</td>\n",
       "    </tr>\n",
       "    <tr>\n",
       "      <th>1</th>\n",
       "      <td>5575-GNVDE</td>\n",
       "      <td>Male</td>\n",
       "      <td>0</td>\n",
       "      <td>No</td>\n",
       "      <td>No</td>\n",
       "      <td>34</td>\n",
       "      <td>Yes</td>\n",
       "      <td>No</td>\n",
       "      <td>DSL</td>\n",
       "      <td>Yes</td>\n",
       "      <td>...</td>\n",
       "      <td>Yes</td>\n",
       "      <td>No</td>\n",
       "      <td>No</td>\n",
       "      <td>No</td>\n",
       "      <td>One year</td>\n",
       "      <td>No</td>\n",
       "      <td>Mailed check</td>\n",
       "      <td>56.95</td>\n",
       "      <td>1889.5</td>\n",
       "      <td>No</td>\n",
       "    </tr>\n",
       "    <tr>\n",
       "      <th>2</th>\n",
       "      <td>3668-QPYBK</td>\n",
       "      <td>Male</td>\n",
       "      <td>0</td>\n",
       "      <td>No</td>\n",
       "      <td>No</td>\n",
       "      <td>2</td>\n",
       "      <td>Yes</td>\n",
       "      <td>No</td>\n",
       "      <td>DSL</td>\n",
       "      <td>Yes</td>\n",
       "      <td>...</td>\n",
       "      <td>No</td>\n",
       "      <td>No</td>\n",
       "      <td>No</td>\n",
       "      <td>No</td>\n",
       "      <td>Month-to-month</td>\n",
       "      <td>Yes</td>\n",
       "      <td>Mailed check</td>\n",
       "      <td>53.85</td>\n",
       "      <td>108.15</td>\n",
       "      <td>Yes</td>\n",
       "    </tr>\n",
       "    <tr>\n",
       "      <th>3</th>\n",
       "      <td>7795-CFOCW</td>\n",
       "      <td>Male</td>\n",
       "      <td>0</td>\n",
       "      <td>No</td>\n",
       "      <td>No</td>\n",
       "      <td>45</td>\n",
       "      <td>No</td>\n",
       "      <td>No phone service</td>\n",
       "      <td>DSL</td>\n",
       "      <td>Yes</td>\n",
       "      <td>...</td>\n",
       "      <td>Yes</td>\n",
       "      <td>Yes</td>\n",
       "      <td>No</td>\n",
       "      <td>No</td>\n",
       "      <td>One year</td>\n",
       "      <td>No</td>\n",
       "      <td>Bank transfer (automatic)</td>\n",
       "      <td>42.30</td>\n",
       "      <td>1840.75</td>\n",
       "      <td>No</td>\n",
       "    </tr>\n",
       "    <tr>\n",
       "      <th>4</th>\n",
       "      <td>9237-HQITU</td>\n",
       "      <td>Female</td>\n",
       "      <td>0</td>\n",
       "      <td>No</td>\n",
       "      <td>No</td>\n",
       "      <td>2</td>\n",
       "      <td>Yes</td>\n",
       "      <td>No</td>\n",
       "      <td>Fiber optic</td>\n",
       "      <td>No</td>\n",
       "      <td>...</td>\n",
       "      <td>No</td>\n",
       "      <td>No</td>\n",
       "      <td>No</td>\n",
       "      <td>No</td>\n",
       "      <td>Month-to-month</td>\n",
       "      <td>Yes</td>\n",
       "      <td>Electronic check</td>\n",
       "      <td>70.70</td>\n",
       "      <td>151.65</td>\n",
       "      <td>Yes</td>\n",
       "    </tr>\n",
       "  </tbody>\n",
       "</table>\n",
       "<p>5 rows × 21 columns</p>\n",
       "</div>"
      ],
      "text/plain": [
       "   customerID  gender  SeniorCitizen Partner Dependents  tenure PhoneService  \\\n",
       "0  7590-VHVEG  Female              0     Yes         No       1           No   \n",
       "1  5575-GNVDE    Male              0      No         No      34          Yes   \n",
       "2  3668-QPYBK    Male              0      No         No       2          Yes   \n",
       "3  7795-CFOCW    Male              0      No         No      45           No   \n",
       "4  9237-HQITU  Female              0      No         No       2          Yes   \n",
       "\n",
       "      MultipleLines InternetService OnlineSecurity  ... DeviceProtection  \\\n",
       "0  No phone service             DSL             No  ...               No   \n",
       "1                No             DSL            Yes  ...              Yes   \n",
       "2                No             DSL            Yes  ...               No   \n",
       "3  No phone service             DSL            Yes  ...              Yes   \n",
       "4                No     Fiber optic             No  ...               No   \n",
       "\n",
       "  TechSupport StreamingTV StreamingMovies        Contract PaperlessBilling  \\\n",
       "0          No          No              No  Month-to-month              Yes   \n",
       "1          No          No              No        One year               No   \n",
       "2          No          No              No  Month-to-month              Yes   \n",
       "3         Yes          No              No        One year               No   \n",
       "4          No          No              No  Month-to-month              Yes   \n",
       "\n",
       "               PaymentMethod MonthlyCharges  TotalCharges Churn  \n",
       "0           Electronic check          29.85         29.85    No  \n",
       "1               Mailed check          56.95        1889.5    No  \n",
       "2               Mailed check          53.85        108.15   Yes  \n",
       "3  Bank transfer (automatic)          42.30       1840.75    No  \n",
       "4           Electronic check          70.70        151.65   Yes  \n",
       "\n",
       "[5 rows x 21 columns]"
      ]
     },
     "execution_count": 12,
     "metadata": {},
     "output_type": "execute_result"
    }
   ],
   "source": [
    "df_pd.head()"
   ]
  },
  {
   "cell_type": "code",
   "execution_count": 13,
   "id": "4b4b1783-e489-44be-8a5f-5fa37f62896d",
   "metadata": {},
   "outputs": [
    {
     "data": {
      "text/plain": [
       "array(['DSL', 'Fiber optic', 'No'], dtype=object)"
      ]
     },
     "execution_count": 13,
     "metadata": {},
     "output_type": "execute_result"
    }
   ],
   "source": [
    "df_pd['InternetService'].unique()"
   ]
  },
  {
   "cell_type": "code",
   "execution_count": 18,
   "id": "d92c8fed-4444-416a-9d15-bf32808ebf72",
   "metadata": {},
   "outputs": [
    {
     "data": {
      "image/png": "[encoded data removed]",
      "text/plain": [
       "<Figure size 640x480 with 1 Axes>"
      ]
     },
     "metadata": {},
     "output_type": "display_data"
    }
   ],
   "source": [
    "df_pd.groupby(\n",
    "    'InternetService'\n",
    ")['customerID'].nunique().plot(\n",
    "    kind='bar',\n",
    "    edgecolor='k',\n",
    ");"
   ]
  },
  {
   "cell_type": "code",
   "execution_count": 29,
   "id": "06e91de9-003b-452f-a92e-0ab7841a190f",
   "metadata": {},
   "outputs": [
    {
     "name": "stdout",
     "output_type": "stream",
     "text": [
      "4.17 ms ± 260 µs per loop (mean ± std. dev. of 7 runs, 100 loops each)\n"
     ]
    }
   ],
   "source": [
    "%%timeit\n",
    "\n",
    "df_pd.groupby(\n",
    "    'InternetService'\n",
    ").agg(\n",
    "    number_of_customers=('customerID', 'nunique'),\n",
    "    average_charge=('MonthlyCharges', 'mean'),\n",
    ").reset_index()"
   ]
  },
  {
   "cell_type": "code",
   "execution_count": 30,
   "id": "7619b4c5-417d-44dc-8d9d-0d9d493ae504",
   "metadata": {},
   "outputs": [
    {
     "data": {
      "text/html": [
       "<div>\n",
       "<style scoped>\n",
       "    .dataframe tbody tr th:only-of-type {\n",
       "        vertical-align: middle;\n",
       "    }\n",
       "\n",
       "    .dataframe tbody tr th {\n",
       "        vertical-align: top;\n",
       "    }\n",
       "\n",
       "    .dataframe thead th {\n",
       "        text-align: right;\n",
       "    }\n",
       "</style>\n",
       "<table border=\"1\" class=\"dataframe\">\n",
       "  <thead>\n",
       "    <tr style=\"text-align: right;\">\n",
       "      <th></th>\n",
       "      <th>InternetService</th>\n",
       "      <th>number_of_customers</th>\n",
       "      <th>average_charge</th>\n",
       "    </tr>\n",
       "  </thead>\n",
       "  <tbody>\n",
       "    <tr>\n",
       "      <th>0</th>\n",
       "      <td>DSL</td>\n",
       "      <td>2421</td>\n",
       "      <td>58.102169</td>\n",
       "    </tr>\n",
       "    <tr>\n",
       "      <th>1</th>\n",
       "      <td>Fiber optic</td>\n",
       "      <td>3096</td>\n",
       "      <td>91.500129</td>\n",
       "    </tr>\n",
       "    <tr>\n",
       "      <th>2</th>\n",
       "      <td>No</td>\n",
       "      <td>1526</td>\n",
       "      <td>21.079194</td>\n",
       "    </tr>\n",
       "  </tbody>\n",
       "</table>\n",
       "</div>"
      ],
      "text/plain": [
       "  InternetService  number_of_customers  average_charge\n",
       "0             DSL                 2421       58.102169\n",
       "1     Fiber optic                 3096       91.500129\n",
       "2              No                 1526       21.079194"
      ]
     },
     "execution_count": 30,
     "metadata": {},
     "output_type": "execute_result"
    }
   ],
   "source": [
    "df_pd.groupby(\n",
    "    'InternetService'\n",
    ").agg(\n",
    "    number_of_customers=('customerID', 'nunique'),\n",
    "    average_charge=('MonthlyCharges', 'mean'),\n",
    ").reset_index()"
   ]
  },
  {
   "cell_type": "code",
   "execution_count": 35,
   "id": "578a324a-ae7b-4fed-aba0-def1a2d83ebf",
   "metadata": {},
   "outputs": [
    {
     "data": {
      "text/html": [
       "<div><style>\n",
       ".dataframe > thead > tr > th,\n",
       ".dataframe > tbody > tr > td {\n",
       "  text-align: right;\n",
       "}\n",
       "</style>\n",
       "<small>shape: (3, 3)</small><table border=\"1\" class=\"dataframe\"><thead><tr><th>InternetService</th><th>number_of_customers</th><th>average_charge</th></tr><tr><td>str</td><td>u32</td><td>f64</td></tr></thead><tbody><tr><td>&quot;Fiber optic&quot;</td><td>3096</td><td>91.500129</td></tr><tr><td>&quot;DSL&quot;</td><td>2421</td><td>58.102169</td></tr><tr><td>&quot;No&quot;</td><td>1526</td><td>21.079194</td></tr></tbody></table></div>"
      ],
      "text/plain": [
       "shape: (3, 3)\n",
       "┌─────────────────┬─────────────────────┬────────────────┐\n",
       "│ InternetService ┆ number_of_customers ┆ average_charge │\n",
       "│ ---             ┆ ---                 ┆ ---            │\n",
       "│ str             ┆ u32                 ┆ f64            │\n",
       "╞═════════════════╪═════════════════════╪════════════════╡\n",
       "│ Fiber optic     ┆ 3096                ┆ 91.500129      │\n",
       "│ DSL             ┆ 2421                ┆ 58.102169      │\n",
       "│ No              ┆ 1526                ┆ 21.079194      │\n",
       "└─────────────────┴─────────────────────┴────────────────┘"
      ]
     },
     "execution_count": 35,
     "metadata": {},
     "output_type": "execute_result"
    }
   ],
   "source": [
    "df_pl.groupby(\n",
    "    'InternetService'\n",
    ").agg(\n",
    "    pl.col('customerID').n_unique().alias('number_of_customers'),\n",
    "    pl.col('MonthlyCharges').mean().alias('average_charge'),\n",
    ")"
   ]
  },
  {
   "cell_type": "code",
   "execution_count": 36,
   "id": "bed35a44-5897-474d-ac86-ab0504432e17",
   "metadata": {},
   "outputs": [
    {
     "name": "stdout",
     "output_type": "stream",
     "text": [
      "483 µs ± 26.2 µs per loop (mean ± std. dev. of 7 runs, 1,000 loops each)\n"
     ]
    }
   ],
   "source": [
    "%%timeit\n",
    "\n",
    "df_pl.groupby(\n",
    "    'InternetService'\n",
    ").agg(\n",
    "    pl.col('customerID').n_unique().alias('number_of_customers'),\n",
    "    pl.col('MonthlyCharges').mean().alias('average_charge'),\n",
    ")"
   ]
  },
  {
   "cell_type": "code",
   "execution_count": 39,
   "id": "7efbca09-d2f4-4ee6-9dc5-ea8905c1c271",
   "metadata": {},
   "outputs": [
    {
     "name": "stdout",
     "output_type": "stream",
     "text": [
      "475 µs ± 11 µs per loop (mean ± std. dev. of 7 runs, 1,000 loops each)\n"
     ]
    }
   ],
   "source": [
    "%%timeit\n",
    "\n",
    "df_pl.lazy().groupby(\n",
    "    'InternetService'\n",
    ").agg(\n",
    "    pl.col('customerID').n_unique().alias('number_of_customers'),\n",
    "    pl.col('MonthlyCharges').mean().alias('average_charge'),\n",
    ").collect()"
   ]
  },
  {
   "cell_type": "code",
   "execution_count": 48,
   "id": "1b65f962-7a7e-4bba-8b65-77f4342c83d2",
   "metadata": {},
   "outputs": [
    {
     "data": {
      "text/html": [
       "<div><style>\n",
       ".dataframe > thead > tr > th,\n",
       ".dataframe > tbody > tr > td {\n",
       "  text-align: right;\n",
       "}\n",
       "</style>\n",
       "<small>shape: (5, 22)</small><table border=\"1\" class=\"dataframe\"><thead><tr><th>customerID</th><th>gender</th><th>SeniorCitizen</th><th>Partner</th><th>Dependents</th><th>tenure</th><th>PhoneService</th><th>MultipleLines</th><th>InternetService_Fiber optic</th><th>InternetService_No</th><th>OnlineSecurity</th><th>OnlineBackup</th><th>DeviceProtection</th><th>TechSupport</th><th>StreamingTV</th><th>StreamingMovies</th><th>Contract</th><th>PaperlessBilling</th><th>PaymentMethod</th><th>MonthlyCharges</th><th>TotalCharges</th><th>Churn</th></tr><tr><td>str</td><td>str</td><td>i64</td><td>str</td><td>str</td><td>i64</td><td>str</td><td>str</td><td>u8</td><td>u8</td><td>str</td><td>str</td><td>str</td><td>str</td><td>str</td><td>str</td><td>str</td><td>str</td><td>str</td><td>f64</td><td>f64</td><td>str</td></tr></thead><tbody><tr><td>&quot;7590-VHVEG&quot;</td><td>&quot;Female&quot;</td><td>0</td><td>&quot;Yes&quot;</td><td>&quot;No&quot;</td><td>1</td><td>&quot;No&quot;</td><td>&quot;No phone servi…</td><td>0</td><td>0</td><td>&quot;No&quot;</td><td>&quot;Yes&quot;</td><td>&quot;No&quot;</td><td>&quot;No&quot;</td><td>&quot;No&quot;</td><td>&quot;No&quot;</td><td>&quot;Month-to-month…</td><td>&quot;Yes&quot;</td><td>&quot;Electronic che…</td><td>29.85</td><td>29.85</td><td>&quot;No&quot;</td></tr><tr><td>&quot;5575-GNVDE&quot;</td><td>&quot;Male&quot;</td><td>0</td><td>&quot;No&quot;</td><td>&quot;No&quot;</td><td>34</td><td>&quot;Yes&quot;</td><td>&quot;No&quot;</td><td>0</td><td>0</td><td>&quot;Yes&quot;</td><td>&quot;No&quot;</td><td>&quot;Yes&quot;</td><td>&quot;No&quot;</td><td>&quot;No&quot;</td><td>&quot;No&quot;</td><td>&quot;One year&quot;</td><td>&quot;No&quot;</td><td>&quot;Mailed check&quot;</td><td>56.95</td><td>1889.5</td><td>&quot;No&quot;</td></tr><tr><td>&quot;3668-QPYBK&quot;</td><td>&quot;Male&quot;</td><td>0</td><td>&quot;No&quot;</td><td>&quot;No&quot;</td><td>2</td><td>&quot;Yes&quot;</td><td>&quot;No&quot;</td><td>0</td><td>0</td><td>&quot;Yes&quot;</td><td>&quot;Yes&quot;</td><td>&quot;No&quot;</td><td>&quot;No&quot;</td><td>&quot;No&quot;</td><td>&quot;No&quot;</td><td>&quot;Month-to-month…</td><td>&quot;Yes&quot;</td><td>&quot;Mailed check&quot;</td><td>53.85</td><td>108.15</td><td>&quot;Yes&quot;</td></tr><tr><td>&quot;7795-CFOCW&quot;</td><td>&quot;Male&quot;</td><td>0</td><td>&quot;No&quot;</td><td>&quot;No&quot;</td><td>45</td><td>&quot;No&quot;</td><td>&quot;No phone servi…</td><td>0</td><td>0</td><td>&quot;Yes&quot;</td><td>&quot;No&quot;</td><td>&quot;Yes&quot;</td><td>&quot;Yes&quot;</td><td>&quot;No&quot;</td><td>&quot;No&quot;</td><td>&quot;One year&quot;</td><td>&quot;No&quot;</td><td>&quot;Bank transfer …</td><td>42.3</td><td>1840.75</td><td>&quot;No&quot;</td></tr><tr><td>&quot;9237-HQITU&quot;</td><td>&quot;Female&quot;</td><td>0</td><td>&quot;No&quot;</td><td>&quot;No&quot;</td><td>2</td><td>&quot;Yes&quot;</td><td>&quot;No&quot;</td><td>1</td><td>0</td><td>&quot;No&quot;</td><td>&quot;No&quot;</td><td>&quot;No&quot;</td><td>&quot;No&quot;</td><td>&quot;No&quot;</td><td>&quot;No&quot;</td><td>&quot;Month-to-month…</td><td>&quot;Yes&quot;</td><td>&quot;Electronic che…</td><td>70.7</td><td>151.65</td><td>&quot;Yes&quot;</td></tr></tbody></table></div>"
      ],
      "text/plain": [
       "shape: (5, 22)\n",
       "┌────────────┬────────┬─────────────┬─────────┬───┬─────────────┬─────────────┬────────────┬───────┐\n",
       "│ customerID ┆ gender ┆ SeniorCitiz ┆ Partner ┆ … ┆ PaymentMeth ┆ MonthlyChar ┆ TotalCharg ┆ Churn │\n",
       "│ ---        ┆ ---    ┆ en          ┆ ---     ┆   ┆ od          ┆ ges         ┆ es         ┆ ---   │\n",
       "│ str        ┆ str    ┆ ---         ┆ str     ┆   ┆ ---         ┆ ---         ┆ ---        ┆ str   │\n",
       "│            ┆        ┆ i64         ┆         ┆   ┆ str         ┆ f64         ┆ f64        ┆       │\n",
       "╞════════════╪════════╪═════════════╪═════════╪═══╪═════════════╪═════════════╪════════════╪═══════╡\n",
       "│ 7590-VHVEG ┆ Female ┆ 0           ┆ Yes     ┆ … ┆ Electronic  ┆ 29.85       ┆ 29.85      ┆ No    │\n",
       "│            ┆        ┆             ┆         ┆   ┆ check       ┆             ┆            ┆       │\n",
       "│ 5575-GNVDE ┆ Male   ┆ 0           ┆ No      ┆ … ┆ Mailed      ┆ 56.95       ┆ 1889.5     ┆ No    │\n",
       "│            ┆        ┆             ┆         ┆   ┆ check       ┆             ┆            ┆       │\n",
       "│ 3668-QPYBK ┆ Male   ┆ 0           ┆ No      ┆ … ┆ Mailed      ┆ 53.85       ┆ 108.15     ┆ Yes   │\n",
       "│            ┆        ┆             ┆         ┆   ┆ check       ┆             ┆            ┆       │\n",
       "│ 7795-CFOCW ┆ Male   ┆ 0           ┆ No      ┆ … ┆ Bank        ┆ 42.3        ┆ 1840.75    ┆ No    │\n",
       "│            ┆        ┆             ┆         ┆   ┆ transfer    ┆             ┆            ┆       │\n",
       "│            ┆        ┆             ┆         ┆   ┆ (automatic) ┆             ┆            ┆       │\n",
       "│ 9237-HQITU ┆ Female ┆ 0           ┆ No      ┆ … ┆ Electronic  ┆ 70.7        ┆ 151.65     ┆ Yes   │\n",
       "│            ┆        ┆             ┆         ┆   ┆ check       ┆             ┆            ┆       │\n",
       "└────────────┴────────┴─────────────┴─────────┴───┴─────────────┴─────────────┴────────────┴───────┘"
      ]
     },
     "execution_count": 48,
     "metadata": {},
     "output_type": "execute_result"
    }
   ],
   "source": [
    "df_pl.to_dummies('InternetService', drop_first=True).head()"
   ]
  },
  {
   "cell_type": "code",
   "execution_count": 53,
   "id": "5fef5b4c-d2a4-43af-b48c-8cd8d65c51e9",
   "metadata": {},
   "outputs": [
    {
     "data": {
      "text/html": [
       "<div>\n",
       "<style scoped>\n",
       "    .dataframe tbody tr th:only-of-type {\n",
       "        vertical-align: middle;\n",
       "    }\n",
       "\n",
       "    .dataframe tbody tr th {\n",
       "        vertical-align: top;\n",
       "    }\n",
       "\n",
       "    .dataframe thead th {\n",
       "        text-align: right;\n",
       "    }\n",
       "</style>\n",
       "<table border=\"1\" class=\"dataframe\">\n",
       "  <thead>\n",
       "    <tr style=\"text-align: right;\">\n",
       "      <th></th>\n",
       "      <th>InternetService_Fiber optic</th>\n",
       "      <th>InternetService_No</th>\n",
       "    </tr>\n",
       "  </thead>\n",
       "  <tbody>\n",
       "    <tr>\n",
       "      <th>0</th>\n",
       "      <td>0</td>\n",
       "      <td>0</td>\n",
       "    </tr>\n",
       "    <tr>\n",
       "      <th>1</th>\n",
       "      <td>0</td>\n",
       "      <td>0</td>\n",
       "    </tr>\n",
       "    <tr>\n",
       "      <th>2</th>\n",
       "      <td>0</td>\n",
       "      <td>0</td>\n",
       "    </tr>\n",
       "    <tr>\n",
       "      <th>3</th>\n",
       "      <td>0</td>\n",
       "      <td>0</td>\n",
       "    </tr>\n",
       "    <tr>\n",
       "      <th>4</th>\n",
       "      <td>1</td>\n",
       "      <td>0</td>\n",
       "    </tr>\n",
       "    <tr>\n",
       "      <th>...</th>\n",
       "      <td>...</td>\n",
       "      <td>...</td>\n",
       "    </tr>\n",
       "    <tr>\n",
       "      <th>7038</th>\n",
       "      <td>0</td>\n",
       "      <td>0</td>\n",
       "    </tr>\n",
       "    <tr>\n",
       "      <th>7039</th>\n",
       "      <td>1</td>\n",
       "      <td>0</td>\n",
       "    </tr>\n",
       "    <tr>\n",
       "      <th>7040</th>\n",
       "      <td>0</td>\n",
       "      <td>0</td>\n",
       "    </tr>\n",
       "    <tr>\n",
       "      <th>7041</th>\n",
       "      <td>1</td>\n",
       "      <td>0</td>\n",
       "    </tr>\n",
       "    <tr>\n",
       "      <th>7042</th>\n",
       "      <td>1</td>\n",
       "      <td>0</td>\n",
       "    </tr>\n",
       "  </tbody>\n",
       "</table>\n",
       "<p>7043 rows × 2 columns</p>\n",
       "</div>"
      ],
      "text/plain": [
       "      InternetService_Fiber optic  InternetService_No\n",
       "0                               0                   0\n",
       "1                               0                   0\n",
       "2                               0                   0\n",
       "3                               0                   0\n",
       "4                               1                   0\n",
       "...                           ...                 ...\n",
       "7038                            0                   0\n",
       "7039                            1                   0\n",
       "7040                            0                   0\n",
       "7041                            1                   0\n",
       "7042                            1                   0\n",
       "\n",
       "[7043 rows x 2 columns]"
      ]
     },
     "execution_count": 53,
     "metadata": {},
     "output_type": "execute_result"
    }
   ],
   "source": [
    "pd.get_dummies(df_pd['InternetService'], prefix='InternetService', drop_first=True).astype(int)"
   ]
  },
  {
   "cell_type": "code",
   "execution_count": 59,
   "id": "a82d5606-ee02-4826-b308-98da3491cd49",
   "metadata": {},
   "outputs": [],
   "source": [
    "temp = df_pd.copy()\n",
    "dummy_columns = pd.get_dummies(temp['InternetService'], prefix='InternetService', drop_first=True).astype(int)\n",
    "temp = pd.concat([temp, dummy_columns], axis=1)\n",
    "temp = temp.drop(columns=['InternetService'])"
   ]
  },
  {
   "cell_type": "code",
   "execution_count": 60,
   "id": "c6823180-6688-48e7-9f2e-7db3870e352c",
   "metadata": {},
   "outputs": [
    {
     "data": {
      "text/html": [
       "<div>\n",
       "<style scoped>\n",
       "    .dataframe tbody tr th:only-of-type {\n",
       "        vertical-align: middle;\n",
       "    }\n",
       "\n",
       "    .dataframe tbody tr th {\n",
       "        vertical-align: top;\n",
       "    }\n",
       "\n",
       "    .dataframe thead th {\n",
       "        text-align: right;\n",
       "    }\n",
       "</style>\n",
       "<table border=\"1\" class=\"dataframe\">\n",
       "  <thead>\n",
       "    <tr style=\"text-align: right;\">\n",
       "      <th></th>\n",
       "      <th>customerID</th>\n",
       "      <th>gender</th>\n",
       "      <th>SeniorCitizen</th>\n",
       "      <th>Partner</th>\n",
       "      <th>Dependents</th>\n",
       "      <th>tenure</th>\n",
       "      <th>PhoneService</th>\n",
       "      <th>MultipleLines</th>\n",
       "      <th>OnlineSecurity</th>\n",
       "      <th>OnlineBackup</th>\n",
       "      <th>...</th>\n",
       "      <th>StreamingTV</th>\n",
       "      <th>StreamingMovies</th>\n",
       "      <th>Contract</th>\n",
       "      <th>PaperlessBilling</th>\n",
       "      <th>PaymentMethod</th>\n",
       "      <th>MonthlyCharges</th>\n",
       "      <th>TotalCharges</th>\n",
       "      <th>Churn</th>\n",
       "      <th>InternetService_Fiber optic</th>\n",
       "      <th>InternetService_No</th>\n",
       "    </tr>\n",
       "  </thead>\n",
       "  <tbody>\n",
       "    <tr>\n",
       "      <th>0</th>\n",
       "      <td>7590-VHVEG</td>\n",
       "      <td>Female</td>\n",
       "      <td>0</td>\n",
       "      <td>Yes</td>\n",
       "      <td>No</td>\n",
       "      <td>1</td>\n",
       "      <td>No</td>\n",
       "      <td>No phone service</td>\n",
       "      <td>No</td>\n",
       "      <td>Yes</td>\n",
       "      <td>...</td>\n",
       "      <td>No</td>\n",
       "      <td>No</td>\n",
       "      <td>Month-to-month</td>\n",
       "      <td>Yes</td>\n",
       "      <td>Electronic check</td>\n",
       "      <td>29.85</td>\n",
       "      <td>29.85</td>\n",
       "      <td>No</td>\n",
       "      <td>0</td>\n",
       "      <td>0</td>\n",
       "    </tr>\n",
       "    <tr>\n",
       "      <th>1</th>\n",
       "      <td>5575-GNVDE</td>\n",
       "      <td>Male</td>\n",
       "      <td>0</td>\n",
       "      <td>No</td>\n",
       "      <td>No</td>\n",
       "      <td>34</td>\n",
       "      <td>Yes</td>\n",
       "      <td>No</td>\n",
       "      <td>Yes</td>\n",
       "      <td>No</td>\n",
       "      <td>...</td>\n",
       "      <td>No</td>\n",
       "      <td>No</td>\n",
       "      <td>One year</td>\n",
       "      <td>No</td>\n",
       "      <td>Mailed check</td>\n",
       "      <td>56.95</td>\n",
       "      <td>1889.5</td>\n",
       "      <td>No</td>\n",
       "      <td>0</td>\n",
       "      <td>0</td>\n",
       "    </tr>\n",
       "    <tr>\n",
       "      <th>2</th>\n",
       "      <td>3668-QPYBK</td>\n",
       "      <td>Male</td>\n",
       "      <td>0</td>\n",
       "      <td>No</td>\n",
       "      <td>No</td>\n",
       "      <td>2</td>\n",
       "      <td>Yes</td>\n",
       "      <td>No</td>\n",
       "      <td>Yes</td>\n",
       "      <td>Yes</td>\n",
       "      <td>...</td>\n",
       "      <td>No</td>\n",
       "      <td>No</td>\n",
       "      <td>Month-to-month</td>\n",
       "      <td>Yes</td>\n",
       "      <td>Mailed check</td>\n",
       "      <td>53.85</td>\n",
       "      <td>108.15</td>\n",
       "      <td>Yes</td>\n",
       "      <td>0</td>\n",
       "      <td>0</td>\n",
       "    </tr>\n",
       "    <tr>\n",
       "      <th>3</th>\n",
       "      <td>7795-CFOCW</td>\n",
       "      <td>Male</td>\n",
       "      <td>0</td>\n",
       "      <td>No</td>\n",
       "      <td>No</td>\n",
       "      <td>45</td>\n",
       "      <td>No</td>\n",
       "      <td>No phone service</td>\n",
       "      <td>Yes</td>\n",
       "      <td>No</td>\n",
       "      <td>...</td>\n",
       "      <td>No</td>\n",
       "      <td>No</td>\n",
       "      <td>One year</td>\n",
       "      <td>No</td>\n",
       "      <td>Bank transfer (automatic)</td>\n",
       "      <td>42.30</td>\n",
       "      <td>1840.75</td>\n",
       "      <td>No</td>\n",
       "      <td>0</td>\n",
       "      <td>0</td>\n",
       "    </tr>\n",
       "    <tr>\n",
       "      <th>4</th>\n",
       "      <td>9237-HQITU</td>\n",
       "      <td>Female</td>\n",
       "      <td>0</td>\n",
       "      <td>No</td>\n",
       "      <td>No</td>\n",
       "      <td>2</td>\n",
       "      <td>Yes</td>\n",
       "      <td>No</td>\n",
       "      <td>No</td>\n",
       "      <td>No</td>\n",
       "      <td>...</td>\n",
       "      <td>No</td>\n",
       "      <td>No</td>\n",
       "      <td>Month-to-month</td>\n",
       "      <td>Yes</td>\n",
       "      <td>Electronic check</td>\n",
       "      <td>70.70</td>\n",
       "      <td>151.65</td>\n",
       "      <td>Yes</td>\n",
       "      <td>1</td>\n",
       "      <td>0</td>\n",
       "    </tr>\n",
       "  </tbody>\n",
       "</table>\n",
       "<p>5 rows × 22 columns</p>\n",
       "</div>"
      ],
      "text/plain": [
       "   customerID  gender  SeniorCitizen Partner Dependents  tenure PhoneService  \\\n",
       "0  7590-VHVEG  Female              0     Yes         No       1           No   \n",
       "1  5575-GNVDE    Male              0      No         No      34          Yes   \n",
       "2  3668-QPYBK    Male              0      No         No       2          Yes   \n",
       "3  7795-CFOCW    Male              0      No         No      45           No   \n",
       "4  9237-HQITU  Female              0      No         No       2          Yes   \n",
       "\n",
       "      MultipleLines OnlineSecurity OnlineBackup  ... StreamingTV  \\\n",
       "0  No phone service             No          Yes  ...          No   \n",
       "1                No            Yes           No  ...          No   \n",
       "2                No            Yes          Yes  ...          No   \n",
       "3  No phone service            Yes           No  ...          No   \n",
       "4                No             No           No  ...          No   \n",
       "\n",
       "  StreamingMovies        Contract PaperlessBilling              PaymentMethod  \\\n",
       "0              No  Month-to-month              Yes           Electronic check   \n",
       "1              No        One year               No               Mailed check   \n",
       "2              No  Month-to-month              Yes               Mailed check   \n",
       "3              No        One year               No  Bank transfer (automatic)   \n",
       "4              No  Month-to-month              Yes           Electronic check   \n",
       "\n",
       "  MonthlyCharges TotalCharges  Churn InternetService_Fiber optic  \\\n",
       "0          29.85        29.85     No                           0   \n",
       "1          56.95       1889.5     No                           0   \n",
       "2          53.85       108.15    Yes                           0   \n",
       "3          42.30      1840.75     No                           0   \n",
       "4          70.70       151.65    Yes                           1   \n",
       "\n",
       "  InternetService_No  \n",
       "0                  0  \n",
       "1                  0  \n",
       "2                  0  \n",
       "3                  0  \n",
       "4                  0  \n",
       "\n",
       "[5 rows x 22 columns]"
      ]
     },
     "execution_count": 60,
     "metadata": {},
     "output_type": "execute_result"
    }
   ],
   "source": [
    "temp.head()"
   ]
  },
  {
   "cell_type": "code",
   "execution_count": 65,
   "id": "b55631e7-001d-461c-aab0-65810ee3307a",
   "metadata": {},
   "outputs": [
    {
     "data": {
      "image/png": "[encoded data removed]",
      "text/plain": [
       "<Figure size 640x480 with 1 Axes>"
      ]
     },
     "metadata": {},
     "output_type": "display_data"
    }
   ],
   "source": [
    "df_pl.groupby(\n",
    "    'InternetService'\n",
    ").agg(\n",
    "    pl.col('customerID').n_unique().alias('number_of_customers'),\n",
    ").to_pandas().plot(\n",
    "    kind='bar',\n",
    "    edgecolor='k',\n",
    "    x='InternetService',\n",
    "    y='number_of_customers',\n",
    ");"
   ]
  },
  {
   "cell_type": "code",
   "execution_count": 74,
   "id": "732443ea-d198-4422-9976-91dbc5391be1",
   "metadata": {},
   "outputs": [
    {
     "data": {
      "text/plain": [
       "0       0\n",
       "1       0\n",
       "2       1\n",
       "3       0\n",
       "4       1\n",
       "       ..\n",
       "7038    0\n",
       "7039    0\n",
       "7040    0\n",
       "7041    1\n",
       "7042    0\n",
       "Name: Churn, Length: 7043, dtype: int64"
      ]
     },
     "execution_count": 74,
     "metadata": {},
     "output_type": "execute_result"
    }
   ],
   "source": [
    "df_pd['Churn'].map({'No': 0, 'Yes': 1})"
   ]
  },
  {
   "cell_type": "code",
   "execution_count": 75,
   "id": "205fc9a4-ae5f-47c9-a8ef-314ab4da0036",
   "metadata": {},
   "outputs": [
    {
     "data": {
      "text/html": [
       "<div><style>\n",
       ".dataframe > thead > tr > th,\n",
       ".dataframe > tbody > tr > td {\n",
       "  text-align: right;\n",
       "}\n",
       "</style>\n",
       "<small>shape: (5, 21)</small><table border=\"1\" class=\"dataframe\"><thead><tr><th>customerID</th><th>gender</th><th>SeniorCitizen</th><th>Partner</th><th>Dependents</th><th>tenure</th><th>PhoneService</th><th>MultipleLines</th><th>InternetService</th><th>OnlineSecurity</th><th>OnlineBackup</th><th>DeviceProtection</th><th>TechSupport</th><th>StreamingTV</th><th>StreamingMovies</th><th>Contract</th><th>PaperlessBilling</th><th>PaymentMethod</th><th>MonthlyCharges</th><th>TotalCharges</th><th>Churn</th></tr><tr><td>str</td><td>str</td><td>i64</td><td>str</td><td>str</td><td>i64</td><td>str</td><td>str</td><td>str</td><td>str</td><td>str</td><td>str</td><td>str</td><td>str</td><td>str</td><td>str</td><td>str</td><td>str</td><td>f64</td><td>f64</td><td>i64</td></tr></thead><tbody><tr><td>&quot;7590-VHVEG&quot;</td><td>&quot;Female&quot;</td><td>0</td><td>&quot;Yes&quot;</td><td>&quot;No&quot;</td><td>1</td><td>&quot;No&quot;</td><td>&quot;No phone servi…</td><td>&quot;DSL&quot;</td><td>&quot;No&quot;</td><td>&quot;Yes&quot;</td><td>&quot;No&quot;</td><td>&quot;No&quot;</td><td>&quot;No&quot;</td><td>&quot;No&quot;</td><td>&quot;Month-to-month…</td><td>&quot;Yes&quot;</td><td>&quot;Electronic che…</td><td>29.85</td><td>29.85</td><td>0</td></tr><tr><td>&quot;5575-GNVDE&quot;</td><td>&quot;Male&quot;</td><td>0</td><td>&quot;No&quot;</td><td>&quot;No&quot;</td><td>34</td><td>&quot;Yes&quot;</td><td>&quot;No&quot;</td><td>&quot;DSL&quot;</td><td>&quot;Yes&quot;</td><td>&quot;No&quot;</td><td>&quot;Yes&quot;</td><td>&quot;No&quot;</td><td>&quot;No&quot;</td><td>&quot;No&quot;</td><td>&quot;One year&quot;</td><td>&quot;No&quot;</td><td>&quot;Mailed check&quot;</td><td>56.95</td><td>1889.5</td><td>0</td></tr><tr><td>&quot;3668-QPYBK&quot;</td><td>&quot;Male&quot;</td><td>0</td><td>&quot;No&quot;</td><td>&quot;No&quot;</td><td>2</td><td>&quot;Yes&quot;</td><td>&quot;No&quot;</td><td>&quot;DSL&quot;</td><td>&quot;Yes&quot;</td><td>&quot;Yes&quot;</td><td>&quot;No&quot;</td><td>&quot;No&quot;</td><td>&quot;No&quot;</td><td>&quot;No&quot;</td><td>&quot;Month-to-month…</td><td>&quot;Yes&quot;</td><td>&quot;Mailed check&quot;</td><td>53.85</td><td>108.15</td><td>1</td></tr><tr><td>&quot;7795-CFOCW&quot;</td><td>&quot;Male&quot;</td><td>0</td><td>&quot;No&quot;</td><td>&quot;No&quot;</td><td>45</td><td>&quot;No&quot;</td><td>&quot;No phone servi…</td><td>&quot;DSL&quot;</td><td>&quot;Yes&quot;</td><td>&quot;No&quot;</td><td>&quot;Yes&quot;</td><td>&quot;Yes&quot;</td><td>&quot;No&quot;</td><td>&quot;No&quot;</td><td>&quot;One year&quot;</td><td>&quot;No&quot;</td><td>&quot;Bank transfer …</td><td>42.3</td><td>1840.75</td><td>0</td></tr><tr><td>&quot;9237-HQITU&quot;</td><td>&quot;Female&quot;</td><td>0</td><td>&quot;No&quot;</td><td>&quot;No&quot;</td><td>2</td><td>&quot;Yes&quot;</td><td>&quot;No&quot;</td><td>&quot;Fiber optic&quot;</td><td>&quot;No&quot;</td><td>&quot;No&quot;</td><td>&quot;No&quot;</td><td>&quot;No&quot;</td><td>&quot;No&quot;</td><td>&quot;No&quot;</td><td>&quot;Month-to-month…</td><td>&quot;Yes&quot;</td><td>&quot;Electronic che…</td><td>70.7</td><td>151.65</td><td>1</td></tr></tbody></table></div>"
      ],
      "text/plain": [
       "shape: (5, 21)\n",
       "┌────────────┬────────┬─────────────┬─────────┬───┬─────────────┬─────────────┬────────────┬───────┐\n",
       "│ customerID ┆ gender ┆ SeniorCitiz ┆ Partner ┆ … ┆ PaymentMeth ┆ MonthlyChar ┆ TotalCharg ┆ Churn │\n",
       "│ ---        ┆ ---    ┆ en          ┆ ---     ┆   ┆ od          ┆ ges         ┆ es         ┆ ---   │\n",
       "│ str        ┆ str    ┆ ---         ┆ str     ┆   ┆ ---         ┆ ---         ┆ ---        ┆ i64   │\n",
       "│            ┆        ┆ i64         ┆         ┆   ┆ str         ┆ f64         ┆ f64        ┆       │\n",
       "╞════════════╪════════╪═════════════╪═════════╪═══╪═════════════╪═════════════╪════════════╪═══════╡\n",
       "│ 7590-VHVEG ┆ Female ┆ 0           ┆ Yes     ┆ … ┆ Electronic  ┆ 29.85       ┆ 29.85      ┆ 0     │\n",
       "│            ┆        ┆             ┆         ┆   ┆ check       ┆             ┆            ┆       │\n",
       "│ 5575-GNVDE ┆ Male   ┆ 0           ┆ No      ┆ … ┆ Mailed      ┆ 56.95       ┆ 1889.5     ┆ 0     │\n",
       "│            ┆        ┆             ┆         ┆   ┆ check       ┆             ┆            ┆       │\n",
       "│ 3668-QPYBK ┆ Male   ┆ 0           ┆ No      ┆ … ┆ Mailed      ┆ 53.85       ┆ 108.15     ┆ 1     │\n",
       "│            ┆        ┆             ┆         ┆   ┆ check       ┆             ┆            ┆       │\n",
       "│ 7795-CFOCW ┆ Male   ┆ 0           ┆ No      ┆ … ┆ Bank        ┆ 42.3        ┆ 1840.75    ┆ 0     │\n",
       "│            ┆        ┆             ┆         ┆   ┆ transfer    ┆             ┆            ┆       │\n",
       "│            ┆        ┆             ┆         ┆   ┆ (automatic) ┆             ┆            ┆       │\n",
       "│ 9237-HQITU ┆ Female ┆ 0           ┆ No      ┆ … ┆ Electronic  ┆ 70.7        ┆ 151.65     ┆ 1     │\n",
       "│            ┆        ┆             ┆         ┆   ┆ check       ┆             ┆            ┆       │\n",
       "└────────────┴────────┴─────────────┴─────────┴───┴─────────────┴─────────────┴────────────┴───────┘"
      ]
     },
     "execution_count": 75,
     "metadata": {},
     "output_type": "execute_result"
    }
   ],
   "source": [
    "df_pl.with_columns(\n",
    "    pl.col('Churn').map_dict({'No': 0, 'Yes': 1})\n",
    ").head()"
   ]
  },
  {
   "cell_type": "code",
   "execution_count": 72,
   "id": "754d7fac-be71-4bfb-8cfc-5b13e96af2eb",
   "metadata": {},
   "outputs": [
    {
     "data": {
      "text/html": [
       "<div><style>\n",
       ".dataframe > thead > tr > th,\n",
       ".dataframe > tbody > tr > td {\n",
       "  text-align: right;\n",
       "}\n",
       "</style>\n",
       "<small>shape: (5, 21)</small><table border=\"1\" class=\"dataframe\"><thead><tr><th>customerID</th><th>gender</th><th>SeniorCitizen</th><th>Partner</th><th>Dependents</th><th>tenure</th><th>PhoneService</th><th>MultipleLines</th><th>InternetService</th><th>OnlineSecurity</th><th>OnlineBackup</th><th>DeviceProtection</th><th>TechSupport</th><th>StreamingTV</th><th>StreamingMovies</th><th>Contract</th><th>PaperlessBilling</th><th>PaymentMethod</th><th>MonthlyCharges</th><th>TotalCharges</th><th>Churn</th></tr><tr><td>str</td><td>str</td><td>i64</td><td>str</td><td>str</td><td>i64</td><td>str</td><td>str</td><td>str</td><td>str</td><td>str</td><td>str</td><td>str</td><td>str</td><td>str</td><td>str</td><td>i64</td><td>str</td><td>f64</td><td>f64</td><td>i64</td></tr></thead><tbody><tr><td>&quot;7590-VHVEG&quot;</td><td>&quot;Female&quot;</td><td>0</td><td>&quot;Yes&quot;</td><td>&quot;No&quot;</td><td>1</td><td>&quot;No&quot;</td><td>&quot;No phone servi…</td><td>&quot;DSL&quot;</td><td>&quot;No&quot;</td><td>&quot;Yes&quot;</td><td>&quot;No&quot;</td><td>&quot;No&quot;</td><td>&quot;No&quot;</td><td>&quot;No&quot;</td><td>&quot;Month-to-month…</td><td>1</td><td>&quot;Electronic che…</td><td>29.85</td><td>29.85</td><td>0</td></tr><tr><td>&quot;5575-GNVDE&quot;</td><td>&quot;Male&quot;</td><td>0</td><td>&quot;No&quot;</td><td>&quot;No&quot;</td><td>34</td><td>&quot;Yes&quot;</td><td>&quot;No&quot;</td><td>&quot;DSL&quot;</td><td>&quot;Yes&quot;</td><td>&quot;No&quot;</td><td>&quot;Yes&quot;</td><td>&quot;No&quot;</td><td>&quot;No&quot;</td><td>&quot;No&quot;</td><td>&quot;One year&quot;</td><td>0</td><td>&quot;Mailed check&quot;</td><td>56.95</td><td>1889.5</td><td>0</td></tr><tr><td>&quot;3668-QPYBK&quot;</td><td>&quot;Male&quot;</td><td>0</td><td>&quot;No&quot;</td><td>&quot;No&quot;</td><td>2</td><td>&quot;Yes&quot;</td><td>&quot;No&quot;</td><td>&quot;DSL&quot;</td><td>&quot;Yes&quot;</td><td>&quot;Yes&quot;</td><td>&quot;No&quot;</td><td>&quot;No&quot;</td><td>&quot;No&quot;</td><td>&quot;No&quot;</td><td>&quot;Month-to-month…</td><td>1</td><td>&quot;Mailed check&quot;</td><td>53.85</td><td>108.15</td><td>1</td></tr><tr><td>&quot;7795-CFOCW&quot;</td><td>&quot;Male&quot;</td><td>0</td><td>&quot;No&quot;</td><td>&quot;No&quot;</td><td>45</td><td>&quot;No&quot;</td><td>&quot;No phone servi…</td><td>&quot;DSL&quot;</td><td>&quot;Yes&quot;</td><td>&quot;No&quot;</td><td>&quot;Yes&quot;</td><td>&quot;Yes&quot;</td><td>&quot;No&quot;</td><td>&quot;No&quot;</td><td>&quot;One year&quot;</td><td>0</td><td>&quot;Bank transfer …</td><td>42.3</td><td>1840.75</td><td>0</td></tr><tr><td>&quot;9237-HQITU&quot;</td><td>&quot;Female&quot;</td><td>0</td><td>&quot;No&quot;</td><td>&quot;No&quot;</td><td>2</td><td>&quot;Yes&quot;</td><td>&quot;No&quot;</td><td>&quot;Fiber optic&quot;</td><td>&quot;No&quot;</td><td>&quot;No&quot;</td><td>&quot;No&quot;</td><td>&quot;No&quot;</td><td>&quot;No&quot;</td><td>&quot;No&quot;</td><td>&quot;Month-to-month…</td><td>1</td><td>&quot;Electronic che…</td><td>70.7</td><td>151.65</td><td>1</td></tr></tbody></table></div>"
      ],
      "text/plain": [
       "shape: (5, 21)\n",
       "┌────────────┬────────┬─────────────┬─────────┬───┬─────────────┬─────────────┬────────────┬───────┐\n",
       "│ customerID ┆ gender ┆ SeniorCitiz ┆ Partner ┆ … ┆ PaymentMeth ┆ MonthlyChar ┆ TotalCharg ┆ Churn │\n",
       "│ ---        ┆ ---    ┆ en          ┆ ---     ┆   ┆ od          ┆ ges         ┆ es         ┆ ---   │\n",
       "│ str        ┆ str    ┆ ---         ┆ str     ┆   ┆ ---         ┆ ---         ┆ ---        ┆ i64   │\n",
       "│            ┆        ┆ i64         ┆         ┆   ┆ str         ┆ f64         ┆ f64        ┆       │\n",
       "╞════════════╪════════╪═════════════╪═════════╪═══╪═════════════╪═════════════╪════════════╪═══════╡\n",
       "│ 7590-VHVEG ┆ Female ┆ 0           ┆ Yes     ┆ … ┆ Electronic  ┆ 29.85       ┆ 29.85      ┆ 0     │\n",
       "│            ┆        ┆             ┆         ┆   ┆ check       ┆             ┆            ┆       │\n",
       "│ 5575-GNVDE ┆ Male   ┆ 0           ┆ No      ┆ … ┆ Mailed      ┆ 56.95       ┆ 1889.5     ┆ 0     │\n",
       "│            ┆        ┆             ┆         ┆   ┆ check       ┆             ┆            ┆       │\n",
       "│ 3668-QPYBK ┆ Male   ┆ 0           ┆ No      ┆ … ┆ Mailed      ┆ 53.85       ┆ 108.15     ┆ 1     │\n",
       "│            ┆        ┆             ┆         ┆   ┆ check       ┆             ┆            ┆       │\n",
       "│ 7795-CFOCW ┆ Male   ┆ 0           ┆ No      ┆ … ┆ Bank        ┆ 42.3        ┆ 1840.75    ┆ 0     │\n",
       "│            ┆        ┆             ┆         ┆   ┆ transfer    ┆             ┆            ┆       │\n",
       "│            ┆        ┆             ┆         ┆   ┆ (automatic) ┆             ┆            ┆       │\n",
       "│ 9237-HQITU ┆ Female ┆ 0           ┆ No      ┆ … ┆ Electronic  ┆ 70.7        ┆ 151.65     ┆ 1     │\n",
       "│            ┆        ┆             ┆         ┆   ┆ check       ┆             ┆            ┆       │\n",
       "└────────────┴────────┴─────────────┴─────────┴───┴─────────────┴─────────────┴────────────┴───────┘"
      ]
     },
     "execution_count": 72,
     "metadata": {},
     "output_type": "execute_result"
    }
   ],
   "source": [
    "df_pl.with_columns(\n",
    "    pl.col(['PaperlessBilling', 'Churn']).map_dict({'No': 0, 'Yes': 1})\n",
    ").head()"
   ]
  },
  {
   "cell_type": "code",
   "execution_count": 77,
   "id": "cc084a80-a85f-4b9e-8409-2a1f789a1298",
   "metadata": {},
   "outputs": [
    {
     "data": {
      "text/html": [
       "<div><style>\n",
       ".dataframe > thead > tr > th,\n",
       ".dataframe > tbody > tr > td {\n",
       "  text-align: right;\n",
       "}\n",
       "</style>\n",
       "<small>shape: (5, 21)</small><table border=\"1\" class=\"dataframe\"><thead><tr><th>customerID</th><th>gender</th><th>SeniorCitizen</th><th>Partner</th><th>Dependents</th><th>tenure</th><th>PhoneService</th><th>MultipleLines</th><th>InternetService</th><th>OnlineSecurity</th><th>OnlineBackup</th><th>DeviceProtection</th><th>TechSupport</th><th>StreamingTV</th><th>StreamingMovies</th><th>Contract</th><th>PaperlessBilling</th><th>PaymentMethod</th><th>MonthlyCharges</th><th>TotalCharges</th><th>Churn</th></tr><tr><td>str</td><td>str</td><td>i64</td><td>str</td><td>str</td><td>i64</td><td>str</td><td>str</td><td>str</td><td>str</td><td>str</td><td>str</td><td>str</td><td>str</td><td>str</td><td>str</td><td>str</td><td>str</td><td>f64</td><td>f64</td><td>str</td></tr></thead><tbody><tr><td>&quot;7590-VHVEG&quot;</td><td>&quot;Female&quot;</td><td>0</td><td>&quot;Yes&quot;</td><td>&quot;No&quot;</td><td>1</td><td>&quot;No&quot;</td><td>&quot;No phone servi…</td><td>&quot;DSL&quot;</td><td>&quot;No&quot;</td><td>&quot;Yes&quot;</td><td>&quot;No&quot;</td><td>&quot;No&quot;</td><td>&quot;No&quot;</td><td>&quot;No&quot;</td><td>&quot;Month-to-month…</td><td>&quot;Yes&quot;</td><td>&quot;Electronic che…</td><td>29.85</td><td>29.85</td><td>&quot;No&quot;</td></tr><tr><td>&quot;5575-GNVDE&quot;</td><td>&quot;Male&quot;</td><td>0</td><td>&quot;No&quot;</td><td>&quot;No&quot;</td><td>34</td><td>&quot;Yes&quot;</td><td>&quot;No&quot;</td><td>&quot;DSL&quot;</td><td>&quot;Yes&quot;</td><td>&quot;No&quot;</td><td>&quot;Yes&quot;</td><td>&quot;No&quot;</td><td>&quot;No&quot;</td><td>&quot;No&quot;</td><td>&quot;One year&quot;</td><td>&quot;No&quot;</td><td>&quot;Mailed check&quot;</td><td>56.95</td><td>1889.5</td><td>&quot;No&quot;</td></tr><tr><td>&quot;3668-QPYBK&quot;</td><td>&quot;Male&quot;</td><td>0</td><td>&quot;No&quot;</td><td>&quot;No&quot;</td><td>2</td><td>&quot;Yes&quot;</td><td>&quot;No&quot;</td><td>&quot;DSL&quot;</td><td>&quot;Yes&quot;</td><td>&quot;Yes&quot;</td><td>&quot;No&quot;</td><td>&quot;No&quot;</td><td>&quot;No&quot;</td><td>&quot;No&quot;</td><td>&quot;Month-to-month…</td><td>&quot;Yes&quot;</td><td>&quot;Mailed check&quot;</td><td>53.85</td><td>108.15</td><td>&quot;Yes&quot;</td></tr><tr><td>&quot;7795-CFOCW&quot;</td><td>&quot;Male&quot;</td><td>0</td><td>&quot;No&quot;</td><td>&quot;No&quot;</td><td>45</td><td>&quot;No&quot;</td><td>&quot;No phone servi…</td><td>&quot;DSL&quot;</td><td>&quot;Yes&quot;</td><td>&quot;No&quot;</td><td>&quot;Yes&quot;</td><td>&quot;Yes&quot;</td><td>&quot;No&quot;</td><td>&quot;No&quot;</td><td>&quot;One year&quot;</td><td>&quot;No&quot;</td><td>&quot;Bank transfer …</td><td>42.3</td><td>1840.75</td><td>&quot;No&quot;</td></tr><tr><td>&quot;9237-HQITU&quot;</td><td>&quot;Female&quot;</td><td>0</td><td>&quot;No&quot;</td><td>&quot;No&quot;</td><td>2</td><td>&quot;Yes&quot;</td><td>&quot;No&quot;</td><td>&quot;Fiber optic&quot;</td><td>&quot;No&quot;</td><td>&quot;No&quot;</td><td>&quot;No&quot;</td><td>&quot;No&quot;</td><td>&quot;No&quot;</td><td>&quot;No&quot;</td><td>&quot;Month-to-month…</td><td>&quot;Yes&quot;</td><td>&quot;Electronic che…</td><td>70.7</td><td>151.65</td><td>&quot;Yes&quot;</td></tr></tbody></table></div>"
      ],
      "text/plain": [
       "shape: (5, 21)\n",
       "┌────────────┬────────┬─────────────┬─────────┬───┬─────────────┬─────────────┬────────────┬───────┐\n",
       "│ customerID ┆ gender ┆ SeniorCitiz ┆ Partner ┆ … ┆ PaymentMeth ┆ MonthlyChar ┆ TotalCharg ┆ Churn │\n",
       "│ ---        ┆ ---    ┆ en          ┆ ---     ┆   ┆ od          ┆ ges         ┆ es         ┆ ---   │\n",
       "│ str        ┆ str    ┆ ---         ┆ str     ┆   ┆ ---         ┆ ---         ┆ ---        ┆ str   │\n",
       "│            ┆        ┆ i64         ┆         ┆   ┆ str         ┆ f64         ┆ f64        ┆       │\n",
       "╞════════════╪════════╪═════════════╪═════════╪═══╪═════════════╪═════════════╪════════════╪═══════╡\n",
       "│ 7590-VHVEG ┆ Female ┆ 0           ┆ Yes     ┆ … ┆ Electronic  ┆ 29.85       ┆ 29.85      ┆ No    │\n",
       "│            ┆        ┆             ┆         ┆   ┆ check       ┆             ┆            ┆       │\n",
       "│ 5575-GNVDE ┆ Male   ┆ 0           ┆ No      ┆ … ┆ Mailed      ┆ 56.95       ┆ 1889.5     ┆ No    │\n",
       "│            ┆        ┆             ┆         ┆   ┆ check       ┆             ┆            ┆       │\n",
       "│ 3668-QPYBK ┆ Male   ┆ 0           ┆ No      ┆ … ┆ Mailed      ┆ 53.85       ┆ 108.15     ┆ Yes   │\n",
       "│            ┆        ┆             ┆         ┆   ┆ check       ┆             ┆            ┆       │\n",
       "│ 7795-CFOCW ┆ Male   ┆ 0           ┆ No      ┆ … ┆ Bank        ┆ 42.3        ┆ 1840.75    ┆ No    │\n",
       "│            ┆        ┆             ┆         ┆   ┆ transfer    ┆             ┆            ┆       │\n",
       "│            ┆        ┆             ┆         ┆   ┆ (automatic) ┆             ┆            ┆       │\n",
       "│ 9237-HQITU ┆ Female ┆ 0           ┆ No      ┆ … ┆ Electronic  ┆ 70.7        ┆ 151.65     ┆ Yes   │\n",
       "│            ┆        ┆             ┆         ┆   ┆ check       ┆             ┆            ┆       │\n",
       "└────────────┴────────┴─────────────┴─────────┴───┴─────────────┴─────────────┴────────────┴───────┘"
      ]
     },
     "execution_count": 77,
     "metadata": {},
     "output_type": "execute_result"
    }
   ],
   "source": [
    "df_pl.head()"
   ]
  },
  {
   "cell_type": "code",
   "execution_count": 78,
   "id": "516206bb-cc55-492d-9312-c6e6cd98be72",
   "metadata": {},
   "outputs": [
    {
     "data": {
      "text/html": [
       "<div><style>\n",
       ".dataframe > thead > tr > th,\n",
       ".dataframe > tbody > tr > td {\n",
       "  text-align: right;\n",
       "}\n",
       "</style>\n",
       "<small>shape: (1, 21)</small><table border=\"1\" class=\"dataframe\"><thead><tr><th>customerID</th><th>gender</th><th>SeniorCitizen</th><th>Partner</th><th>Dependents</th><th>tenure</th><th>PhoneService</th><th>MultipleLines</th><th>InternetService</th><th>OnlineSecurity</th><th>OnlineBackup</th><th>DeviceProtection</th><th>TechSupport</th><th>StreamingTV</th><th>StreamingMovies</th><th>Contract</th><th>PaperlessBilling</th><th>PaymentMethod</th><th>MonthlyCharges</th><th>TotalCharges</th><th>Churn</th></tr><tr><td>u32</td><td>u32</td><td>u32</td><td>u32</td><td>u32</td><td>u32</td><td>u32</td><td>u32</td><td>u32</td><td>u32</td><td>u32</td><td>u32</td><td>u32</td><td>u32</td><td>u32</td><td>u32</td><td>u32</td><td>u32</td><td>u32</td><td>u32</td><td>u32</td></tr></thead><tbody><tr><td>0</td><td>0</td><td>0</td><td>0</td><td>0</td><td>0</td><td>0</td><td>0</td><td>0</td><td>0</td><td>0</td><td>0</td><td>0</td><td>0</td><td>0</td><td>0</td><td>0</td><td>0</td><td>0</td><td>11</td><td>0</td></tr></tbody></table></div>"
      ],
      "text/plain": [
       "shape: (1, 21)\n",
       "┌────────────┬────────┬─────────────┬─────────┬───┬─────────────┬─────────────┬────────────┬───────┐\n",
       "│ customerID ┆ gender ┆ SeniorCitiz ┆ Partner ┆ … ┆ PaymentMeth ┆ MonthlyChar ┆ TotalCharg ┆ Churn │\n",
       "│ ---        ┆ ---    ┆ en          ┆ ---     ┆   ┆ od          ┆ ges         ┆ es         ┆ ---   │\n",
       "│ u32        ┆ u32    ┆ ---         ┆ u32     ┆   ┆ ---         ┆ ---         ┆ ---        ┆ u32   │\n",
       "│            ┆        ┆ u32         ┆         ┆   ┆ u32         ┆ u32         ┆ u32        ┆       │\n",
       "╞════════════╪════════╪═════════════╪═════════╪═══╪═════════════╪═════════════╪════════════╪═══════╡\n",
       "│ 0          ┆ 0      ┆ 0           ┆ 0       ┆ … ┆ 0           ┆ 0           ┆ 11         ┆ 0     │\n",
       "└────────────┴────────┴─────────────┴─────────┴───┴─────────────┴─────────────┴────────────┴───────┘"
      ]
     },
     "execution_count": 78,
     "metadata": {},
     "output_type": "execute_result"
    }
   ],
   "source": [
    "df_pl.null_count()"
   ]
  },
  {
   "cell_type": "code",
   "execution_count": 90,
   "id": "85ba918c-5d50-4099-b476-f35126385ab0",
   "metadata": {},
   "outputs": [
    {
     "data": {
      "text/html": [
       "<div><style>\n",
       ".dataframe > thead > tr > th,\n",
       ".dataframe > tbody > tr > td {\n",
       "  text-align: right;\n",
       "}\n",
       "</style>\n",
       "<small>shape: (5, 21)</small><table border=\"1\" class=\"dataframe\"><thead><tr><th>customerID</th><th>gender</th><th>SeniorCitizen</th><th>Partner</th><th>Dependents</th><th>tenure</th><th>PhoneService</th><th>MultipleLines</th><th>InternetService</th><th>OnlineSecurity</th><th>OnlineBackup</th><th>DeviceProtection</th><th>TechSupport</th><th>StreamingTV</th><th>StreamingMovies</th><th>Contract</th><th>PaperlessBilling</th><th>PaymentMethod</th><th>MonthlyCharges</th><th>TotalCharges</th><th>Churn</th></tr><tr><td>str</td><td>str</td><td>i64</td><td>i64</td><td>i64</td><td>i64</td><td>i64</td><td>str</td><td>str</td><td>str</td><td>str</td><td>str</td><td>str</td><td>str</td><td>str</td><td>str</td><td>i64</td><td>str</td><td>f64</td><td>f64</td><td>i64</td></tr></thead><tbody><tr><td>&quot;7590-VHVEG&quot;</td><td>&quot;Female&quot;</td><td>0</td><td>1</td><td>0</td><td>1</td><td>0</td><td>&quot;No phone servi…</td><td>&quot;DSL&quot;</td><td>&quot;No&quot;</td><td>&quot;Yes&quot;</td><td>&quot;No&quot;</td><td>&quot;No&quot;</td><td>&quot;No&quot;</td><td>&quot;No&quot;</td><td>&quot;Month-to-month…</td><td>1</td><td>&quot;Electronic che…</td><td>29.85</td><td>29.85</td><td>0</td></tr><tr><td>&quot;5575-GNVDE&quot;</td><td>&quot;Male&quot;</td><td>0</td><td>0</td><td>0</td><td>34</td><td>1</td><td>&quot;No&quot;</td><td>&quot;DSL&quot;</td><td>&quot;Yes&quot;</td><td>&quot;No&quot;</td><td>&quot;Yes&quot;</td><td>&quot;No&quot;</td><td>&quot;No&quot;</td><td>&quot;No&quot;</td><td>&quot;One year&quot;</td><td>0</td><td>&quot;Mailed check&quot;</td><td>56.95</td><td>1889.5</td><td>0</td></tr><tr><td>&quot;3668-QPYBK&quot;</td><td>&quot;Male&quot;</td><td>0</td><td>0</td><td>0</td><td>2</td><td>1</td><td>&quot;No&quot;</td><td>&quot;DSL&quot;</td><td>&quot;Yes&quot;</td><td>&quot;Yes&quot;</td><td>&quot;No&quot;</td><td>&quot;No&quot;</td><td>&quot;No&quot;</td><td>&quot;No&quot;</td><td>&quot;Month-to-month…</td><td>1</td><td>&quot;Mailed check&quot;</td><td>53.85</td><td>108.15</td><td>1</td></tr><tr><td>&quot;7795-CFOCW&quot;</td><td>&quot;Male&quot;</td><td>0</td><td>0</td><td>0</td><td>45</td><td>0</td><td>&quot;No phone servi…</td><td>&quot;DSL&quot;</td><td>&quot;Yes&quot;</td><td>&quot;No&quot;</td><td>&quot;Yes&quot;</td><td>&quot;Yes&quot;</td><td>&quot;No&quot;</td><td>&quot;No&quot;</td><td>&quot;One year&quot;</td><td>0</td><td>&quot;Bank transfer …</td><td>42.3</td><td>1840.75</td><td>0</td></tr><tr><td>&quot;9237-HQITU&quot;</td><td>&quot;Female&quot;</td><td>0</td><td>0</td><td>0</td><td>2</td><td>1</td><td>&quot;No&quot;</td><td>&quot;Fiber optic&quot;</td><td>&quot;No&quot;</td><td>&quot;No&quot;</td><td>&quot;No&quot;</td><td>&quot;No&quot;</td><td>&quot;No&quot;</td><td>&quot;No&quot;</td><td>&quot;Month-to-month…</td><td>1</td><td>&quot;Electronic che…</td><td>70.7</td><td>151.65</td><td>1</td></tr></tbody></table></div>"
      ],
      "text/plain": [
       "shape: (5, 21)\n",
       "┌────────────┬────────┬─────────────┬─────────┬───┬─────────────┬─────────────┬────────────┬───────┐\n",
       "│ customerID ┆ gender ┆ SeniorCitiz ┆ Partner ┆ … ┆ PaymentMeth ┆ MonthlyChar ┆ TotalCharg ┆ Churn │\n",
       "│ ---        ┆ ---    ┆ en          ┆ ---     ┆   ┆ od          ┆ ges         ┆ es         ┆ ---   │\n",
       "│ str        ┆ str    ┆ ---         ┆ i64     ┆   ┆ ---         ┆ ---         ┆ ---        ┆ i64   │\n",
       "│            ┆        ┆ i64         ┆         ┆   ┆ str         ┆ f64         ┆ f64        ┆       │\n",
       "╞════════════╪════════╪═════════════╪═════════╪═══╪═════════════╪═════════════╪════════════╪═══════╡\n",
       "│ 7590-VHVEG ┆ Female ┆ 0           ┆ 1       ┆ … ┆ Electronic  ┆ 29.85       ┆ 29.85      ┆ 0     │\n",
       "│            ┆        ┆             ┆         ┆   ┆ check       ┆             ┆            ┆       │\n",
       "│ 5575-GNVDE ┆ Male   ┆ 0           ┆ 0       ┆ … ┆ Mailed      ┆ 56.95       ┆ 1889.5     ┆ 0     │\n",
       "│            ┆        ┆             ┆         ┆   ┆ check       ┆             ┆            ┆       │\n",
       "│ 3668-QPYBK ┆ Male   ┆ 0           ┆ 0       ┆ … ┆ Mailed      ┆ 53.85       ┆ 108.15     ┆ 1     │\n",
       "│            ┆        ┆             ┆         ┆   ┆ check       ┆             ┆            ┆       │\n",
       "│ 7795-CFOCW ┆ Male   ┆ 0           ┆ 0       ┆ … ┆ Bank        ┆ 42.3        ┆ 1840.75    ┆ 0     │\n",
       "│            ┆        ┆             ┆         ┆   ┆ transfer    ┆             ┆            ┆       │\n",
       "│            ┆        ┆             ┆         ┆   ┆ (automatic) ┆             ┆            ┆       │\n",
       "│ 9237-HQITU ┆ Female ┆ 0           ┆ 0       ┆ … ┆ Electronic  ┆ 70.7        ┆ 151.65     ┆ 1     │\n",
       "│            ┆        ┆             ┆         ┆   ┆ check       ┆             ┆            ┆       │\n",
       "└────────────┴────────┴─────────────┴─────────┴───┴─────────────┴─────────────┴────────────┴───────┘"
      ]
     },
     "execution_count": 90,
     "metadata": {},
     "output_type": "execute_result"
    }
   ],
   "source": [
    "binary_columns = []\n",
    "for col in df_pl.columns:\n",
    "    unique_vals = df_pl.get_column(col).unique().sort().to_list()\n",
    "    if unique_vals == ['No', 'Yes']:\n",
    "        binary_columns.append(col)\n",
    "\n",
    "df_pl.with_columns(\n",
    "    pl.col(binary_columns).map_dict({'No': 0, 'Yes': 1})\n",
    ").head()"
   ]
  },
  {
   "cell_type": "code",
   "execution_count": 112,
   "id": "f919473b-5056-4dc1-90ce-9d162c447857",
   "metadata": {},
   "outputs": [
    {
     "data": {
      "text/html": [
       "<div><style>\n",
       ".dataframe > thead > tr > th,\n",
       ".dataframe > tbody > tr > td {\n",
       "  text-align: right;\n",
       "}\n",
       "</style>\n",
       "<small>shape: (5, 32)</small><table border=\"1\" class=\"dataframe\"><thead><tr><th>customerID</th><th>gender_Male</th><th>SeniorCitizen</th><th>Partner_No</th><th>Dependents_Yes</th><th>tenure</th><th>PhoneService_Yes</th><th>MultipleLines_No</th><th>MultipleLines_Yes</th><th>InternetService_Fiber optic</th><th>InternetService_No</th><th>OnlineSecurity_No internet service</th><th>OnlineSecurity_Yes</th><th>OnlineBackup_No</th><th>OnlineBackup_No internet service</th><th>DeviceProtection_No internet service</th><th>DeviceProtection_Yes</th><th>TechSupport_No internet service</th><th>TechSupport_Yes</th><th>StreamingTV_No internet service</th><th>StreamingTV_Yes</th><th>StreamingMovies_No internet service</th><th>StreamingMovies_Yes</th><th>Contract_One year</th><th>Contract_Two year</th><th>PaperlessBilling_No</th><th>PaymentMethod_Bank transfer (automatic)</th><th>PaymentMethod_Credit card (automatic)</th><th>PaymentMethod_Mailed check</th><th>MonthlyCharges</th><th>TotalCharges</th><th>Churn_Yes</th></tr><tr><td>str</td><td>u8</td><td>i64</td><td>u8</td><td>u8</td><td>i64</td><td>u8</td><td>u8</td><td>u8</td><td>u8</td><td>u8</td><td>u8</td><td>u8</td><td>u8</td><td>u8</td><td>u8</td><td>u8</td><td>u8</td><td>u8</td><td>u8</td><td>u8</td><td>u8</td><td>u8</td><td>u8</td><td>u8</td><td>u8</td><td>u8</td><td>u8</td><td>u8</td><td>f64</td><td>f64</td><td>u8</td></tr></thead><tbody><tr><td>&quot;7590-VHVEG&quot;</td><td>0</td><td>0</td><td>0</td><td>0</td><td>1</td><td>0</td><td>0</td><td>0</td><td>0</td><td>0</td><td>0</td><td>0</td><td>0</td><td>0</td><td>0</td><td>0</td><td>0</td><td>0</td><td>0</td><td>0</td><td>0</td><td>0</td><td>0</td><td>0</td><td>0</td><td>0</td><td>0</td><td>0</td><td>29.85</td><td>29.85</td><td>0</td></tr><tr><td>&quot;5575-GNVDE&quot;</td><td>1</td><td>0</td><td>1</td><td>0</td><td>34</td><td>1</td><td>1</td><td>0</td><td>0</td><td>0</td><td>0</td><td>1</td><td>1</td><td>0</td><td>0</td><td>1</td><td>0</td><td>0</td><td>0</td><td>0</td><td>0</td><td>0</td><td>1</td><td>0</td><td>1</td><td>0</td><td>0</td><td>1</td><td>56.95</td><td>1889.5</td><td>0</td></tr><tr><td>&quot;3668-QPYBK&quot;</td><td>1</td><td>0</td><td>1</td><td>0</td><td>2</td><td>1</td><td>1</td><td>0</td><td>0</td><td>0</td><td>0</td><td>1</td><td>0</td><td>0</td><td>0</td><td>0</td><td>0</td><td>0</td><td>0</td><td>0</td><td>0</td><td>0</td><td>0</td><td>0</td><td>0</td><td>0</td><td>0</td><td>1</td><td>53.85</td><td>108.15</td><td>1</td></tr><tr><td>&quot;7795-CFOCW&quot;</td><td>1</td><td>0</td><td>1</td><td>0</td><td>45</td><td>0</td><td>0</td><td>0</td><td>0</td><td>0</td><td>0</td><td>1</td><td>1</td><td>0</td><td>0</td><td>1</td><td>0</td><td>1</td><td>0</td><td>0</td><td>0</td><td>0</td><td>1</td><td>0</td><td>1</td><td>1</td><td>0</td><td>0</td><td>42.3</td><td>1840.75</td><td>0</td></tr><tr><td>&quot;9237-HQITU&quot;</td><td>0</td><td>0</td><td>1</td><td>0</td><td>2</td><td>1</td><td>1</td><td>0</td><td>1</td><td>0</td><td>0</td><td>0</td><td>1</td><td>0</td><td>0</td><td>0</td><td>0</td><td>0</td><td>0</td><td>0</td><td>0</td><td>0</td><td>0</td><td>0</td><td>0</td><td>0</td><td>0</td><td>0</td><td>70.7</td><td>151.65</td><td>1</td></tr></tbody></table></div>"
      ],
      "text/plain": [
       "shape: (5, 32)\n",
       "┌───────────┬───────────┬───────────┬───────────┬───┬───────────┬───────────┬───────────┬──────────┐\n",
       "│ customerI ┆ gender_Ma ┆ SeniorCit ┆ Partner_N ┆ … ┆ PaymentMe ┆ MonthlyCh ┆ TotalChar ┆ Churn_Ye │\n",
       "│ D         ┆ le        ┆ izen      ┆ o         ┆   ┆ thod_Mail ┆ arges     ┆ ges       ┆ s        │\n",
       "│ ---       ┆ ---       ┆ ---       ┆ ---       ┆   ┆ ed check  ┆ ---       ┆ ---       ┆ ---      │\n",
       "│ str       ┆ u8        ┆ i64       ┆ u8        ┆   ┆ ---       ┆ f64       ┆ f64       ┆ u8       │\n",
       "│           ┆           ┆           ┆           ┆   ┆ u8        ┆           ┆           ┆          │\n",
       "╞═══════════╪═══════════╪═══════════╪═══════════╪═══╪═══════════╪═══════════╪═══════════╪══════════╡\n",
       "│ 7590-VHVE ┆ 0         ┆ 0         ┆ 0         ┆ … ┆ 0         ┆ 29.85     ┆ 29.85     ┆ 0        │\n",
       "│ G         ┆           ┆           ┆           ┆   ┆           ┆           ┆           ┆          │\n",
       "│ 5575-GNVD ┆ 1         ┆ 0         ┆ 1         ┆ … ┆ 1         ┆ 56.95     ┆ 1889.5    ┆ 0        │\n",
       "│ E         ┆           ┆           ┆           ┆   ┆           ┆           ┆           ┆          │\n",
       "│ 3668-QPYB ┆ 1         ┆ 0         ┆ 1         ┆ … ┆ 1         ┆ 53.85     ┆ 108.15    ┆ 1        │\n",
       "│ K         ┆           ┆           ┆           ┆   ┆           ┆           ┆           ┆          │\n",
       "│ 7795-CFOC ┆ 1         ┆ 0         ┆ 1         ┆ … ┆ 0         ┆ 42.3      ┆ 1840.75   ┆ 0        │\n",
       "│ W         ┆           ┆           ┆           ┆   ┆           ┆           ┆           ┆          │\n",
       "│ 9237-HQIT ┆ 0         ┆ 0         ┆ 1         ┆ … ┆ 0         ┆ 70.7      ┆ 151.65    ┆ 1        │\n",
       "│ U         ┆           ┆           ┆           ┆   ┆           ┆           ┆           ┆          │\n",
       "└───────────┴───────────┴───────────┴───────────┴───┴───────────┴───────────┴───────────┴──────────┘"
      ]
     },
     "execution_count": 112,
     "metadata": {},
     "output_type": "execute_result"
    }
   ],
   "source": [
    "columns_to_exclude = ['customerID']\n",
    "\n",
    "string_columns = []\n",
    "for (col, dtype) in zip(df_pl.columns, df_pl.dtypes):\n",
    "    if col not in columns_to_exclude:\n",
    "        if dtype == pl.Utf8:\n",
    "            string_columns.append(col)\n",
    "\n",
    "df_pl.to_dummies(string_columns, drop_first=True).head()"
   ]
  },
  {
   "cell_type": "markdown",
   "id": "1cb5b910-f745-4125-a29e-e88491563d06",
   "metadata": {},
   "source": [
    "#### All together"
   ]
  },
  {
   "cell_type": "code",
   "execution_count": 113,
   "id": "8a01a137-896f-4e7b-8f71-9440f7990f0b",
   "metadata": {},
   "outputs": [],
   "source": [
    "df_pl = pl.read_csv(data_filepath)\n",
    "\n",
    "binary_columns = []\n",
    "for col in df_pl.columns:\n",
    "    unique_vals = df_pl.get_column(col).unique().sort().to_list()\n",
    "    if unique_vals == ['No', 'Yes']:\n",
    "        binary_columns.append(col)\n",
    "\n",
    "df_pl = df_pl.with_columns(\n",
    "    pl.col(binary_columns).map_dict({'No': 0, 'Yes': 1})\n",
    ")\n",
    "\n",
    "columns_to_exclude = ['customerID']\n",
    "string_columns = []\n",
    "for (col, dtype) in zip(df_pl.columns, df_pl.dtypes):\n",
    "    if col not in columns_to_exclude:\n",
    "        if dtype == pl.Utf8:\n",
    "            string_columns.append(col)\n",
    "\n",
    "df_pl = df_pl.to_dummies(string_columns, drop_first=True)"
   ]
  },
  {
   "cell_type": "code",
   "execution_count": 114,
   "id": "5d63b231-d824-48a0-a110-e8bcd1cce189",
   "metadata": {},
   "outputs": [
    {
     "data": {
      "text/html": [
       "<div><style>\n",
       ".dataframe > thead > tr > th,\n",
       ".dataframe > tbody > tr > td {\n",
       "  text-align: right;\n",
       "}\n",
       "</style>\n",
       "<small>shape: (7_043, 32)</small><table border=\"1\" class=\"dataframe\"><thead><tr><th>customerID</th><th>gender_Male</th><th>SeniorCitizen</th><th>Partner</th><th>Dependents</th><th>tenure</th><th>PhoneService</th><th>MultipleLines_No</th><th>MultipleLines_Yes</th><th>InternetService_Fiber optic</th><th>InternetService_No</th><th>OnlineSecurity_No internet service</th><th>OnlineSecurity_Yes</th><th>OnlineBackup_No</th><th>OnlineBackup_No internet service</th><th>DeviceProtection_No internet service</th><th>DeviceProtection_Yes</th><th>TechSupport_No internet service</th><th>TechSupport_Yes</th><th>StreamingTV_No internet service</th><th>StreamingTV_Yes</th><th>StreamingMovies_No internet service</th><th>StreamingMovies_Yes</th><th>Contract_One year</th><th>Contract_Two year</th><th>PaperlessBilling</th><th>PaymentMethod_Bank transfer (automatic)</th><th>PaymentMethod_Credit card (automatic)</th><th>PaymentMethod_Mailed check</th><th>MonthlyCharges</th><th>TotalCharges</th><th>Churn</th></tr><tr><td>str</td><td>u8</td><td>i64</td><td>i64</td><td>i64</td><td>i64</td><td>i64</td><td>u8</td><td>u8</td><td>u8</td><td>u8</td><td>u8</td><td>u8</td><td>u8</td><td>u8</td><td>u8</td><td>u8</td><td>u8</td><td>u8</td><td>u8</td><td>u8</td><td>u8</td><td>u8</td><td>u8</td><td>u8</td><td>i64</td><td>u8</td><td>u8</td><td>u8</td><td>f64</td><td>f64</td><td>i64</td></tr></thead><tbody><tr><td>&quot;7590-VHVEG&quot;</td><td>0</td><td>0</td><td>1</td><td>0</td><td>1</td><td>0</td><td>0</td><td>0</td><td>0</td><td>0</td><td>0</td><td>0</td><td>0</td><td>0</td><td>0</td><td>0</td><td>0</td><td>0</td><td>0</td><td>0</td><td>0</td><td>0</td><td>0</td><td>0</td><td>1</td><td>0</td><td>0</td><td>0</td><td>29.85</td><td>29.85</td><td>0</td></tr><tr><td>&quot;5575-GNVDE&quot;</td><td>1</td><td>0</td><td>0</td><td>0</td><td>34</td><td>1</td><td>1</td><td>0</td><td>0</td><td>0</td><td>0</td><td>1</td><td>1</td><td>0</td><td>0</td><td>1</td><td>0</td><td>0</td><td>0</td><td>0</td><td>0</td><td>0</td><td>1</td><td>0</td><td>0</td><td>0</td><td>0</td><td>1</td><td>56.95</td><td>1889.5</td><td>0</td></tr><tr><td>&quot;3668-QPYBK&quot;</td><td>1</td><td>0</td><td>0</td><td>0</td><td>2</td><td>1</td><td>1</td><td>0</td><td>0</td><td>0</td><td>0</td><td>1</td><td>0</td><td>0</td><td>0</td><td>0</td><td>0</td><td>0</td><td>0</td><td>0</td><td>0</td><td>0</td><td>0</td><td>0</td><td>1</td><td>0</td><td>0</td><td>1</td><td>53.85</td><td>108.15</td><td>1</td></tr><tr><td>&quot;7795-CFOCW&quot;</td><td>1</td><td>0</td><td>0</td><td>0</td><td>45</td><td>0</td><td>0</td><td>0</td><td>0</td><td>0</td><td>0</td><td>1</td><td>1</td><td>0</td><td>0</td><td>1</td><td>0</td><td>1</td><td>0</td><td>0</td><td>0</td><td>0</td><td>1</td><td>0</td><td>0</td><td>1</td><td>0</td><td>0</td><td>42.3</td><td>1840.75</td><td>0</td></tr><tr><td>&quot;9237-HQITU&quot;</td><td>0</td><td>0</td><td>0</td><td>0</td><td>2</td><td>1</td><td>1</td><td>0</td><td>1</td><td>0</td><td>0</td><td>0</td><td>1</td><td>0</td><td>0</td><td>0</td><td>0</td><td>0</td><td>0</td><td>0</td><td>0</td><td>0</td><td>0</td><td>0</td><td>1</td><td>0</td><td>0</td><td>0</td><td>70.7</td><td>151.65</td><td>1</td></tr><tr><td>&quot;9305-CDSKC&quot;</td><td>0</td><td>0</td><td>0</td><td>0</td><td>8</td><td>1</td><td>0</td><td>1</td><td>1</td><td>0</td><td>0</td><td>0</td><td>1</td><td>0</td><td>0</td><td>1</td><td>0</td><td>0</td><td>0</td><td>1</td><td>0</td><td>1</td><td>0</td><td>0</td><td>1</td><td>0</td><td>0</td><td>0</td><td>99.65</td><td>820.5</td><td>1</td></tr><tr><td>&quot;1452-KIOVK&quot;</td><td>1</td><td>0</td><td>0</td><td>1</td><td>22</td><td>1</td><td>0</td><td>1</td><td>1</td><td>0</td><td>0</td><td>0</td><td>0</td><td>0</td><td>0</td><td>0</td><td>0</td><td>0</td><td>0</td><td>1</td><td>0</td><td>0</td><td>0</td><td>0</td><td>1</td><td>0</td><td>1</td><td>0</td><td>89.1</td><td>1949.4</td><td>0</td></tr><tr><td>&quot;6713-OKOMC&quot;</td><td>0</td><td>0</td><td>0</td><td>0</td><td>10</td><td>0</td><td>0</td><td>0</td><td>0</td><td>0</td><td>0</td><td>1</td><td>1</td><td>0</td><td>0</td><td>0</td><td>0</td><td>0</td><td>0</td><td>0</td><td>0</td><td>0</td><td>0</td><td>0</td><td>0</td><td>0</td><td>0</td><td>1</td><td>29.75</td><td>301.9</td><td>0</td></tr><tr><td>&quot;7892-POOKP&quot;</td><td>0</td><td>0</td><td>1</td><td>0</td><td>28</td><td>1</td><td>0</td><td>1</td><td>1</td><td>0</td><td>0</td><td>0</td><td>1</td><td>0</td><td>0</td><td>1</td><td>0</td><td>1</td><td>0</td><td>1</td><td>0</td><td>1</td><td>0</td><td>0</td><td>1</td><td>0</td><td>0</td><td>0</td><td>104.8</td><td>3046.05</td><td>1</td></tr><tr><td>&quot;6388-TABGU&quot;</td><td>1</td><td>0</td><td>0</td><td>1</td><td>62</td><td>1</td><td>1</td><td>0</td><td>0</td><td>0</td><td>0</td><td>1</td><td>0</td><td>0</td><td>0</td><td>0</td><td>0</td><td>0</td><td>0</td><td>0</td><td>0</td><td>0</td><td>1</td><td>0</td><td>0</td><td>1</td><td>0</td><td>0</td><td>56.15</td><td>3487.95</td><td>0</td></tr><tr><td>&quot;9763-GRSKD&quot;</td><td>1</td><td>0</td><td>1</td><td>1</td><td>13</td><td>1</td><td>1</td><td>0</td><td>0</td><td>0</td><td>0</td><td>1</td><td>1</td><td>0</td><td>0</td><td>0</td><td>0</td><td>0</td><td>0</td><td>0</td><td>0</td><td>0</td><td>0</td><td>0</td><td>1</td><td>0</td><td>0</td><td>1</td><td>49.95</td><td>587.45</td><td>0</td></tr><tr><td>&quot;7469-LKBCI&quot;</td><td>1</td><td>0</td><td>0</td><td>0</td><td>16</td><td>1</td><td>1</td><td>0</td><td>0</td><td>1</td><td>1</td><td>0</td><td>0</td><td>1</td><td>1</td><td>0</td><td>1</td><td>0</td><td>1</td><td>0</td><td>1</td><td>0</td><td>0</td><td>1</td><td>0</td><td>0</td><td>1</td><td>0</td><td>18.95</td><td>326.8</td><td>0</td></tr><tr><td>&hellip;</td><td>&hellip;</td><td>&hellip;</td><td>&hellip;</td><td>&hellip;</td><td>&hellip;</td><td>&hellip;</td><td>&hellip;</td><td>&hellip;</td><td>&hellip;</td><td>&hellip;</td><td>&hellip;</td><td>&hellip;</td><td>&hellip;</td><td>&hellip;</td><td>&hellip;</td><td>&hellip;</td><td>&hellip;</td><td>&hellip;</td><td>&hellip;</td><td>&hellip;</td><td>&hellip;</td><td>&hellip;</td><td>&hellip;</td><td>&hellip;</td><td>&hellip;</td><td>&hellip;</td><td>&hellip;</td><td>&hellip;</td><td>&hellip;</td><td>&hellip;</td><td>&hellip;</td></tr><tr><td>&quot;3605-JISKB&quot;</td><td>1</td><td>1</td><td>1</td><td>0</td><td>55</td><td>1</td><td>0</td><td>1</td><td>0</td><td>0</td><td>0</td><td>1</td><td>0</td><td>0</td><td>0</td><td>0</td><td>0</td><td>0</td><td>0</td><td>0</td><td>0</td><td>0</td><td>1</td><td>0</td><td>0</td><td>0</td><td>1</td><td>0</td><td>60.0</td><td>3316.1</td><td>0</td></tr><tr><td>&quot;6894-LFHLY&quot;</td><td>1</td><td>1</td><td>0</td><td>0</td><td>1</td><td>1</td><td>0</td><td>1</td><td>1</td><td>0</td><td>0</td><td>0</td><td>1</td><td>0</td><td>0</td><td>0</td><td>0</td><td>0</td><td>0</td><td>0</td><td>0</td><td>0</td><td>0</td><td>0</td><td>1</td><td>0</td><td>0</td><td>0</td><td>75.75</td><td>75.75</td><td>1</td></tr><tr><td>&quot;9767-FFLEM&quot;</td><td>1</td><td>0</td><td>0</td><td>0</td><td>38</td><td>1</td><td>1</td><td>0</td><td>1</td><td>0</td><td>0</td><td>0</td><td>1</td><td>0</td><td>0</td><td>0</td><td>0</td><td>0</td><td>0</td><td>0</td><td>0</td><td>0</td><td>0</td><td>0</td><td>1</td><td>0</td><td>1</td><td>0</td><td>69.5</td><td>2625.25</td><td>0</td></tr><tr><td>&quot;0639-TSIQW&quot;</td><td>0</td><td>0</td><td>0</td><td>0</td><td>67</td><td>1</td><td>0</td><td>1</td><td>1</td><td>0</td><td>0</td><td>1</td><td>0</td><td>0</td><td>0</td><td>1</td><td>0</td><td>0</td><td>0</td><td>1</td><td>0</td><td>0</td><td>0</td><td>0</td><td>1</td><td>0</td><td>1</td><td>0</td><td>102.95</td><td>6886.25</td><td>1</td></tr><tr><td>&quot;8456-QDAVC&quot;</td><td>1</td><td>0</td><td>0</td><td>0</td><td>19</td><td>1</td><td>1</td><td>0</td><td>1</td><td>0</td><td>0</td><td>0</td><td>1</td><td>0</td><td>0</td><td>0</td><td>0</td><td>0</td><td>0</td><td>1</td><td>0</td><td>0</td><td>0</td><td>0</td><td>1</td><td>1</td><td>0</td><td>0</td><td>78.7</td><td>1495.1</td><td>0</td></tr><tr><td>&quot;7750-EYXWZ&quot;</td><td>0</td><td>0</td><td>0</td><td>0</td><td>12</td><td>0</td><td>0</td><td>0</td><td>0</td><td>0</td><td>0</td><td>0</td><td>0</td><td>0</td><td>0</td><td>1</td><td>0</td><td>1</td><td>0</td><td>1</td><td>0</td><td>1</td><td>1</td><td>0</td><td>0</td><td>0</td><td>0</td><td>0</td><td>60.65</td><td>743.3</td><td>0</td></tr><tr><td>&quot;2569-WGERO&quot;</td><td>0</td><td>0</td><td>0</td><td>0</td><td>72</td><td>1</td><td>1</td><td>0</td><td>0</td><td>1</td><td>1</td><td>0</td><td>0</td><td>1</td><td>1</td><td>0</td><td>1</td><td>0</td><td>1</td><td>0</td><td>1</td><td>0</td><td>0</td><td>1</td><td>1</td><td>1</td><td>0</td><td>0</td><td>21.15</td><td>1419.4</td><td>0</td></tr><tr><td>&quot;6840-RESVB&quot;</td><td>1</td><td>0</td><td>1</td><td>1</td><td>24</td><td>1</td><td>0</td><td>1</td><td>0</td><td>0</td><td>0</td><td>1</td><td>1</td><td>0</td><td>0</td><td>1</td><td>0</td><td>1</td><td>0</td><td>1</td><td>0</td><td>1</td><td>1</td><td>0</td><td>1</td><td>0</td><td>0</td><td>1</td><td>84.8</td><td>1990.5</td><td>0</td></tr><tr><td>&quot;2234-XADUH&quot;</td><td>0</td><td>0</td><td>1</td><td>1</td><td>72</td><td>1</td><td>0</td><td>1</td><td>1</td><td>0</td><td>0</td><td>0</td><td>0</td><td>0</td><td>0</td><td>1</td><td>0</td><td>0</td><td>0</td><td>1</td><td>0</td><td>1</td><td>1</td><td>0</td><td>1</td><td>0</td><td>1</td><td>0</td><td>103.2</td><td>7362.9</td><td>0</td></tr><tr><td>&quot;4801-JZAZL&quot;</td><td>0</td><td>0</td><td>1</td><td>1</td><td>11</td><td>0</td><td>0</td><td>0</td><td>0</td><td>0</td><td>0</td><td>1</td><td>1</td><td>0</td><td>0</td><td>0</td><td>0</td><td>0</td><td>0</td><td>0</td><td>0</td><td>0</td><td>0</td><td>0</td><td>1</td><td>0</td><td>0</td><td>0</td><td>29.6</td><td>346.45</td><td>0</td></tr><tr><td>&quot;8361-LTMKD&quot;</td><td>1</td><td>1</td><td>1</td><td>0</td><td>4</td><td>1</td><td>0</td><td>1</td><td>1</td><td>0</td><td>0</td><td>0</td><td>1</td><td>0</td><td>0</td><td>0</td><td>0</td><td>0</td><td>0</td><td>0</td><td>0</td><td>0</td><td>0</td><td>0</td><td>1</td><td>0</td><td>0</td><td>1</td><td>74.4</td><td>306.6</td><td>1</td></tr><tr><td>&quot;3186-AJIEK&quot;</td><td>1</td><td>0</td><td>0</td><td>0</td><td>66</td><td>1</td><td>1</td><td>0</td><td>1</td><td>0</td><td>0</td><td>1</td><td>1</td><td>0</td><td>0</td><td>1</td><td>0</td><td>1</td><td>0</td><td>1</td><td>0</td><td>1</td><td>0</td><td>1</td><td>1</td><td>1</td><td>0</td><td>0</td><td>105.65</td><td>6844.5</td><td>0</td></tr></tbody></table></div>"
      ],
      "text/plain": [
       "shape: (7_043, 32)\n",
       "┌────────────┬────────────┬────────────┬─────────┬───┬────────────┬────────────┬───────────┬───────┐\n",
       "│ customerID ┆ gender_Mal ┆ SeniorCiti ┆ Partner ┆ … ┆ PaymentMet ┆ MonthlyCha ┆ TotalChar ┆ Churn │\n",
       "│ ---        ┆ e          ┆ zen        ┆ ---     ┆   ┆ hod_Mailed ┆ rges       ┆ ges       ┆ ---   │\n",
       "│ str        ┆ ---        ┆ ---        ┆ i64     ┆   ┆ check      ┆ ---        ┆ ---       ┆ i64   │\n",
       "│            ┆ u8         ┆ i64        ┆         ┆   ┆ ---        ┆ f64        ┆ f64       ┆       │\n",
       "│            ┆            ┆            ┆         ┆   ┆ u8         ┆            ┆           ┆       │\n",
       "╞════════════╪════════════╪════════════╪═════════╪═══╪════════════╪════════════╪═══════════╪═══════╡\n",
       "│ 7590-VHVEG ┆ 0          ┆ 0          ┆ 1       ┆ … ┆ 0          ┆ 29.85      ┆ 29.85     ┆ 0     │\n",
       "│ 5575-GNVDE ┆ 1          ┆ 0          ┆ 0       ┆ … ┆ 1          ┆ 56.95      ┆ 1889.5    ┆ 0     │\n",
       "│ 3668-QPYBK ┆ 1          ┆ 0          ┆ 0       ┆ … ┆ 1          ┆ 53.85      ┆ 108.15    ┆ 1     │\n",
       "│ 7795-CFOCW ┆ 1          ┆ 0          ┆ 0       ┆ … ┆ 0          ┆ 42.3       ┆ 1840.75   ┆ 0     │\n",
       "│ …          ┆ …          ┆ …          ┆ …       ┆ … ┆ …          ┆ …          ┆ …         ┆ …     │\n",
       "│ 2234-XADUH ┆ 0          ┆ 0          ┆ 1       ┆ … ┆ 0          ┆ 103.2      ┆ 7362.9    ┆ 0     │\n",
       "│ 4801-JZAZL ┆ 0          ┆ 0          ┆ 1       ┆ … ┆ 0          ┆ 29.6       ┆ 346.45    ┆ 0     │\n",
       "│ 8361-LTMKD ┆ 1          ┆ 1          ┆ 1       ┆ … ┆ 1          ┆ 74.4       ┆ 306.6     ┆ 1     │\n",
       "│ 3186-AJIEK ┆ 1          ┆ 0          ┆ 0       ┆ … ┆ 0          ┆ 105.65     ┆ 6844.5    ┆ 0     │\n",
       "└────────────┴────────────┴────────────┴─────────┴───┴────────────┴────────────┴───────────┴───────┘"
      ]
     },
     "execution_count": 114,
     "metadata": {},
     "output_type": "execute_result"
    }
   ],
   "source": [
    "df_pl"
   ]
  },
  {
   "cell_type": "code",
   "execution_count": null,
   "id": "a70255dd-23c9-4072-95cb-ce961dde11e0",
   "metadata": {},
   "outputs": [],
   "source": []
  }
 ],
 "metadata": {
  "kernelspec": {
   "display_name": "Python 3 (ipykernel)",
   "language": "python",
   "name": "python3"
  },
  "language_info": {
   "codemirror_mode": {
    "name": "ipython",
    "version": 3
   },
   "file_extension": ".py",
   "mimetype": "text/x-python",
   "name": "python",
   "nbconvert_exporter": "python",
   "pygments_lexer": "ipython3",
   "version": "3.11.5"
  }
 },
 "nbformat": 4,
 "nbformat_minor": 5
}
